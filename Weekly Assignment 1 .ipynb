{
 "cells": [
  {
   "cell_type": "markdown",
   "id": "76d61772",
   "metadata": {},
   "source": [
    "## Document inladen "
   ]
  },
  {
   "cell_type": "code",
   "execution_count": 1,
   "id": "685281a0",
   "metadata": {},
   "outputs": [],
   "source": [
    "import seaborn as sns\n",
    "import pandas as pd\n",
    "import matplotlib.pyplot as plt \n",
    "steps = pd.read_csv('steps.csv', sep = ';')\n",
    "survey = pd.read_csv('survey.csv')"
   ]
  },
  {
   "cell_type": "markdown",
   "id": "c2c5f640",
   "metadata": {},
   "source": [
    "Bestand mergen en NAN's omzetten"
   ]
  },
  {
   "cell_type": "code",
   "execution_count": 2,
   "id": "b1d0d864",
   "metadata": {
    "scrolled": true
   },
   "outputs": [],
   "source": [
    "df = pd.merge(steps, survey, on=['id'], how = 'outer')\n",
    "df = df.fillna(0)"
   ]
  },
  {
   "cell_type": "markdown",
   "id": "917e3bb0",
   "metadata": {},
   "source": [
    "Nieuwe kolom met 'mean steps per participant' maken "
   ]
  },
  {
   "cell_type": "code",
   "execution_count": 3,
   "id": "51db090c",
   "metadata": {},
   "outputs": [
    {
     "data": {
      "text/html": [
       "<div>\n",
       "<style scoped>\n",
       "    .dataframe tbody tr th:only-of-type {\n",
       "        vertical-align: middle;\n",
       "    }\n",
       "\n",
       "    .dataframe tbody tr th {\n",
       "        vertical-align: top;\n",
       "    }\n",
       "\n",
       "    .dataframe thead th {\n",
       "        text-align: right;\n",
       "    }\n",
       "</style>\n",
       "<table border=\"1\" class=\"dataframe\">\n",
       "  <thead>\n",
       "    <tr style=\"text-align: right;\">\n",
       "      <th></th>\n",
       "      <th>id</th>\n",
       "      <th>20-6-2013</th>\n",
       "      <th>21-6-2013</th>\n",
       "      <th>22-6-2013</th>\n",
       "      <th>23-6-2013</th>\n",
       "      <th>24-6-2013</th>\n",
       "      <th>25-6-2013</th>\n",
       "      <th>26-6-2013</th>\n",
       "      <th>27-6-2013</th>\n",
       "      <th>28-6-2013</th>\n",
       "      <th>...</th>\n",
       "      <th>13-5-2014</th>\n",
       "      <th>city</th>\n",
       "      <th>gender</th>\n",
       "      <th>age</th>\n",
       "      <th>hh_size</th>\n",
       "      <th>education</th>\n",
       "      <th>education_1</th>\n",
       "      <th>height</th>\n",
       "      <th>weight</th>\n",
       "      <th>mean steps per participant</th>\n",
       "    </tr>\n",
       "  </thead>\n",
       "  <tbody>\n",
       "    <tr>\n",
       "      <th>0</th>\n",
       "      <td>1</td>\n",
       "      <td>0.0</td>\n",
       "      <td>0.0</td>\n",
       "      <td>0.0</td>\n",
       "      <td>0.0</td>\n",
       "      <td>3941.0</td>\n",
       "      <td>15733.0</td>\n",
       "      <td>9929.0</td>\n",
       "      <td>12879.0</td>\n",
       "      <td>10541.0</td>\n",
       "      <td>...</td>\n",
       "      <td>0.0</td>\n",
       "      <td>Bordeaux</td>\n",
       "      <td>Male</td>\n",
       "      <td>25-34</td>\n",
       "      <td>4</td>\n",
       "      <td>4</td>\n",
       "      <td>Master or doctorate</td>\n",
       "      <td>178.0</td>\n",
       "      <td>98.0</td>\n",
       "      <td>5133.878049</td>\n",
       "    </tr>\n",
       "    <tr>\n",
       "      <th>1</th>\n",
       "      <td>2</td>\n",
       "      <td>0.0</td>\n",
       "      <td>0.0</td>\n",
       "      <td>10473.0</td>\n",
       "      <td>705.0</td>\n",
       "      <td>4287.0</td>\n",
       "      <td>5507.0</td>\n",
       "      <td>4024.0</td>\n",
       "      <td>3926.0</td>\n",
       "      <td>14595.0</td>\n",
       "      <td>...</td>\n",
       "      <td>0.0</td>\n",
       "      <td>Lille</td>\n",
       "      <td>Male</td>\n",
       "      <td>35-44</td>\n",
       "      <td>1</td>\n",
       "      <td>3</td>\n",
       "      <td>Bachelor</td>\n",
       "      <td>180.0</td>\n",
       "      <td>77.0</td>\n",
       "      <td>2826.378049</td>\n",
       "    </tr>\n",
       "    <tr>\n",
       "      <th>2</th>\n",
       "      <td>3</td>\n",
       "      <td>0.0</td>\n",
       "      <td>11428.0</td>\n",
       "      <td>12523.0</td>\n",
       "      <td>2553.0</td>\n",
       "      <td>190.0</td>\n",
       "      <td>2164.0</td>\n",
       "      <td>8185.0</td>\n",
       "      <td>9630.0</td>\n",
       "      <td>8983.0</td>\n",
       "      <td>...</td>\n",
       "      <td>0.0</td>\n",
       "      <td>Montpellier</td>\n",
       "      <td>Male</td>\n",
       "      <td>25-34</td>\n",
       "      <td>2</td>\n",
       "      <td>2</td>\n",
       "      <td>Master or doctorate</td>\n",
       "      <td>180.0</td>\n",
       "      <td>83.0</td>\n",
       "      <td>3745.911585</td>\n",
       "    </tr>\n",
       "    <tr>\n",
       "      <th>3</th>\n",
       "      <td>4</td>\n",
       "      <td>0.0</td>\n",
       "      <td>0.0</td>\n",
       "      <td>0.0</td>\n",
       "      <td>0.0</td>\n",
       "      <td>0.0</td>\n",
       "      <td>0.0</td>\n",
       "      <td>0.0</td>\n",
       "      <td>0.0</td>\n",
       "      <td>0.0</td>\n",
       "      <td>...</td>\n",
       "      <td>0.0</td>\n",
       "      <td>Lyon</td>\n",
       "      <td>Male</td>\n",
       "      <td>&lt;25</td>\n",
       "      <td>1</td>\n",
       "      <td>1</td>\n",
       "      <td>Bachelor</td>\n",
       "      <td>178.0</td>\n",
       "      <td>80.0</td>\n",
       "      <td>221.548780</td>\n",
       "    </tr>\n",
       "    <tr>\n",
       "      <th>4</th>\n",
       "      <td>5</td>\n",
       "      <td>0.0</td>\n",
       "      <td>0.0</td>\n",
       "      <td>0.0</td>\n",
       "      <td>0.0</td>\n",
       "      <td>0.0</td>\n",
       "      <td>0.0</td>\n",
       "      <td>0.0</td>\n",
       "      <td>0.0</td>\n",
       "      <td>0.0</td>\n",
       "      <td>...</td>\n",
       "      <td>0.0</td>\n",
       "      <td>Montpellier</td>\n",
       "      <td>Female</td>\n",
       "      <td>25-34</td>\n",
       "      <td>3</td>\n",
       "      <td>4</td>\n",
       "      <td>Bachelor</td>\n",
       "      <td>167.0</td>\n",
       "      <td>61.0</td>\n",
       "      <td>874.573171</td>\n",
       "    </tr>\n",
       "  </tbody>\n",
       "</table>\n",
       "<p>5 rows × 338 columns</p>\n",
       "</div>"
      ],
      "text/plain": [
       "   id  20-6-2013  21-6-2013  22-6-2013  23-6-2013  24-6-2013  25-6-2013  \\\n",
       "0   1        0.0        0.0        0.0        0.0     3941.0    15733.0   \n",
       "1   2        0.0        0.0    10473.0      705.0     4287.0     5507.0   \n",
       "2   3        0.0    11428.0    12523.0     2553.0      190.0     2164.0   \n",
       "3   4        0.0        0.0        0.0        0.0        0.0        0.0   \n",
       "4   5        0.0        0.0        0.0        0.0        0.0        0.0   \n",
       "\n",
       "   26-6-2013  27-6-2013  28-6-2013  ...  13-5-2014         city  gender  \\\n",
       "0     9929.0    12879.0    10541.0  ...        0.0     Bordeaux    Male   \n",
       "1     4024.0     3926.0    14595.0  ...        0.0        Lille    Male   \n",
       "2     8185.0     9630.0     8983.0  ...        0.0  Montpellier    Male   \n",
       "3        0.0        0.0        0.0  ...        0.0         Lyon    Male   \n",
       "4        0.0        0.0        0.0  ...        0.0  Montpellier  Female   \n",
       "\n",
       "     age  hh_size  education          education_1  height  weight  \\\n",
       "0  25-34        4          4  Master or doctorate   178.0    98.0   \n",
       "1  35-44        1          3             Bachelor   180.0    77.0   \n",
       "2  25-34        2          2  Master or doctorate   180.0    83.0   \n",
       "3    <25        1          1             Bachelor   178.0    80.0   \n",
       "4  25-34        3          4             Bachelor   167.0    61.0   \n",
       "\n",
       "   mean steps per participant  \n",
       "0                 5133.878049  \n",
       "1                 2826.378049  \n",
       "2                 3745.911585  \n",
       "3                  221.548780  \n",
       "4                  874.573171  \n",
       "\n",
       "[5 rows x 338 columns]"
      ]
     },
     "execution_count": 3,
     "metadata": {},
     "output_type": "execute_result"
    }
   ],
   "source": [
    "df['mean steps per participant'] = df.iloc[:, 0:-9].mean(axis=1) \n",
    "df.head()"
   ]
  },
  {
   "cell_type": "code",
   "execution_count": 4,
   "id": "dc244967",
   "metadata": {},
   "outputs": [
    {
     "data": {
      "text/plain": [
       "<AxesSubplot:xlabel='mean steps per participant'>"
      ]
     },
     "execution_count": 4,
     "metadata": {},
     "output_type": "execute_result"
    },
    {
     "data": {
      "image/png": "[encoded data removed]",
      "text/plain": [
       "<Figure size 432x288 with 1 Axes>"
      ]
     },
     "metadata": {
      "needs_background": "light"
     },
     "output_type": "display_data"
    }
   ],
   "source": [
    "sns.boxplot(x= 'mean steps per participant', data=df)"
   ]
  },
  {
   "cell_type": "markdown",
   "id": "98dd21cf",
   "metadata": {},
   "source": [
    "Outliers verwijderen "
   ]
  },
  {
   "cell_type": "code",
   "execution_count": 5,
   "id": "ce421b86",
   "metadata": {},
   "outputs": [],
   "source": [
    "df = df[df['mean steps per participant'] < 15000]"
   ]
  },
  {
   "cell_type": "code",
   "execution_count": 6,
   "id": "02fa103f",
   "metadata": {},
   "outputs": [],
   "source": [
    "df = df[df['weight'] < 600]"
   ]
  },
  {
   "cell_type": "markdown",
   "id": "f10ad974",
   "metadata": {},
   "source": [
    "Boxplot en Histogram maken "
   ]
  },
  {
   "cell_type": "code",
   "execution_count": 7,
   "id": "09212a5e",
   "metadata": {},
   "outputs": [
    {
     "data": {
      "text/plain": [
       "<AxesSubplot:xlabel='mean steps per participant'>"
      ]
     },
     "execution_count": 7,
     "metadata": {},
     "output_type": "execute_result"
    },
    {
     "data": {
      "image/png": "[encoded data removed]",
      "text/plain": [
       "<Figure size 432x288 with 1 Axes>"
      ]
     },
     "metadata": {
      "needs_background": "light"
     },
     "output_type": "display_data"
    }
   ],
   "source": [
    "sns.boxplot(x= 'mean steps per participant', data=df)"
   ]
  },
  {
   "cell_type": "code",
   "execution_count": 8,
   "id": "281cd02a",
   "metadata": {},
   "outputs": [
    {
     "data": {
      "text/plain": [
       "<AxesSubplot:xlabel='mean steps per participant', ylabel='Count'>"
      ]
     },
     "execution_count": 8,
     "metadata": {},
     "output_type": "execute_result"
    },
    {
     "data": {
      "image/png": "[encoded data removed]",
      "text/plain": [
       "<Figure size 432x288 with 1 Axes>"
      ]
     },
     "metadata": {
      "needs_background": "light"
     },
     "output_type": "display_data"
    }
   ],
   "source": [
    "sns.histplot(x= 'mean steps per participant', data=df)"
   ]
  },
  {
   "cell_type": "markdown",
   "id": "81d8deae",
   "metadata": {},
   "source": [
    "## Grafiek is right-skewed"
   ]
  },
  {
   "cell_type": "code",
   "execution_count": 9,
   "id": "1ef6a571",
   "metadata": {},
   "outputs": [
    {
     "data": {
      "text/plain": [
       "<AxesSubplot:xlabel='mean steps per participant'>"
      ]
     },
     "execution_count": 9,
     "metadata": {},
     "output_type": "execute_result"
    },
    {
     "data": {
      "image/png": "[encoded data removed]",
      "text/plain": [
       "<Figure size 432x288 with 1 Axes>"
      ]
     },
     "metadata": {
      "needs_background": "light"
     },
     "output_type": "display_data"
    }
   ],
   "source": [
    "sns.violinplot(x= 'mean steps per participant', data=df)"
   ]
  },
  {
   "cell_type": "markdown",
   "id": "d25c2c2e",
   "metadata": {},
   "source": [
    "## Gemiddelde, mediaan, standaard deviatie en variance berekenen"
   ]
  },
  {
   "cell_type": "code",
   "execution_count": 10,
   "id": "6a6f1614",
   "metadata": {},
   "outputs": [
    {
     "data": {
      "text/html": [
       "<div>\n",
       "<style scoped>\n",
       "    .dataframe tbody tr th:only-of-type {\n",
       "        vertical-align: middle;\n",
       "    }\n",
       "\n",
       "    .dataframe tbody tr th {\n",
       "        vertical-align: top;\n",
       "    }\n",
       "\n",
       "    .dataframe thead th {\n",
       "        text-align: right;\n",
       "    }\n",
       "</style>\n",
       "<table border=\"1\" class=\"dataframe\">\n",
       "  <thead>\n",
       "    <tr style=\"text-align: right;\">\n",
       "      <th></th>\n",
       "      <th>id</th>\n",
       "      <th>20-6-2013</th>\n",
       "      <th>21-6-2013</th>\n",
       "      <th>22-6-2013</th>\n",
       "      <th>23-6-2013</th>\n",
       "      <th>24-6-2013</th>\n",
       "      <th>25-6-2013</th>\n",
       "      <th>26-6-2013</th>\n",
       "      <th>27-6-2013</th>\n",
       "      <th>28-6-2013</th>\n",
       "      <th>...</th>\n",
       "      <th>9-5-2014</th>\n",
       "      <th>10-5-2014</th>\n",
       "      <th>11-5-2014</th>\n",
       "      <th>12-5-2014</th>\n",
       "      <th>13-5-2014</th>\n",
       "      <th>hh_size</th>\n",
       "      <th>education</th>\n",
       "      <th>height</th>\n",
       "      <th>weight</th>\n",
       "      <th>mean steps per participant</th>\n",
       "    </tr>\n",
       "  </thead>\n",
       "  <tbody>\n",
       "    <tr>\n",
       "      <th>count</th>\n",
       "      <td>927.000000</td>\n",
       "      <td>927.000000</td>\n",
       "      <td>927.000000</td>\n",
       "      <td>927.000000</td>\n",
       "      <td>927.00000</td>\n",
       "      <td>927.000000</td>\n",
       "      <td>927.000000</td>\n",
       "      <td>927.000000</td>\n",
       "      <td>927.000000</td>\n",
       "      <td>927.000000</td>\n",
       "      <td>...</td>\n",
       "      <td>927.000000</td>\n",
       "      <td>927.000000</td>\n",
       "      <td>927.000000</td>\n",
       "      <td>927.000000</td>\n",
       "      <td>927.0</td>\n",
       "      <td>927.000000</td>\n",
       "      <td>927.000000</td>\n",
       "      <td>927.000000</td>\n",
       "      <td>927.000000</td>\n",
       "      <td>927.000000</td>\n",
       "    </tr>\n",
       "    <tr>\n",
       "      <th>mean</th>\n",
       "      <td>465.837109</td>\n",
       "      <td>94.032362</td>\n",
       "      <td>2350.083064</td>\n",
       "      <td>3253.645092</td>\n",
       "      <td>2359.18986</td>\n",
       "      <td>3056.166127</td>\n",
       "      <td>3294.824164</td>\n",
       "      <td>2936.400216</td>\n",
       "      <td>3368.039914</td>\n",
       "      <td>4139.856526</td>\n",
       "      <td>...</td>\n",
       "      <td>708.371090</td>\n",
       "      <td>690.938511</td>\n",
       "      <td>565.380798</td>\n",
       "      <td>498.063646</td>\n",
       "      <td>0.0</td>\n",
       "      <td>2.338727</td>\n",
       "      <td>2.527508</td>\n",
       "      <td>171.515642</td>\n",
       "      <td>72.004315</td>\n",
       "      <td>2344.568070</td>\n",
       "    </tr>\n",
       "    <tr>\n",
       "      <th>std</th>\n",
       "      <td>268.001492</td>\n",
       "      <td>850.205391</td>\n",
       "      <td>5145.696743</td>\n",
       "      <td>6061.281662</td>\n",
       "      <td>5136.03089</td>\n",
       "      <td>5126.202354</td>\n",
       "      <td>5161.967598</td>\n",
       "      <td>5233.936220</td>\n",
       "      <td>4913.674629</td>\n",
       "      <td>5786.972761</td>\n",
       "      <td>...</td>\n",
       "      <td>3153.672926</td>\n",
       "      <td>2735.483143</td>\n",
       "      <td>3019.318454</td>\n",
       "      <td>2024.396072</td>\n",
       "      <td>0.0</td>\n",
       "      <td>1.225027</td>\n",
       "      <td>1.274034</td>\n",
       "      <td>10.669769</td>\n",
       "      <td>16.029131</td>\n",
       "      <td>2368.272498</td>\n",
       "    </tr>\n",
       "    <tr>\n",
       "      <th>min</th>\n",
       "      <td>1.000000</td>\n",
       "      <td>0.000000</td>\n",
       "      <td>0.000000</td>\n",
       "      <td>0.000000</td>\n",
       "      <td>0.00000</td>\n",
       "      <td>0.000000</td>\n",
       "      <td>0.000000</td>\n",
       "      <td>0.000000</td>\n",
       "      <td>0.000000</td>\n",
       "      <td>0.000000</td>\n",
       "      <td>...</td>\n",
       "      <td>0.000000</td>\n",
       "      <td>0.000000</td>\n",
       "      <td>0.000000</td>\n",
       "      <td>0.000000</td>\n",
       "      <td>0.0</td>\n",
       "      <td>1.000000</td>\n",
       "      <td>1.000000</td>\n",
       "      <td>0.000000</td>\n",
       "      <td>0.000000</td>\n",
       "      <td>0.054878</td>\n",
       "    </tr>\n",
       "    <tr>\n",
       "      <th>25%</th>\n",
       "      <td>234.500000</td>\n",
       "      <td>0.000000</td>\n",
       "      <td>0.000000</td>\n",
       "      <td>0.000000</td>\n",
       "      <td>0.00000</td>\n",
       "      <td>0.000000</td>\n",
       "      <td>0.000000</td>\n",
       "      <td>0.000000</td>\n",
       "      <td>0.000000</td>\n",
       "      <td>0.000000</td>\n",
       "      <td>...</td>\n",
       "      <td>0.000000</td>\n",
       "      <td>0.000000</td>\n",
       "      <td>0.000000</td>\n",
       "      <td>0.000000</td>\n",
       "      <td>0.0</td>\n",
       "      <td>1.000000</td>\n",
       "      <td>1.000000</td>\n",
       "      <td>165.000000</td>\n",
       "      <td>61.000000</td>\n",
       "      <td>434.861280</td>\n",
       "    </tr>\n",
       "    <tr>\n",
       "      <th>50%</th>\n",
       "      <td>466.000000</td>\n",
       "      <td>0.000000</td>\n",
       "      <td>0.000000</td>\n",
       "      <td>0.000000</td>\n",
       "      <td>0.00000</td>\n",
       "      <td>0.000000</td>\n",
       "      <td>0.000000</td>\n",
       "      <td>0.000000</td>\n",
       "      <td>0.000000</td>\n",
       "      <td>0.000000</td>\n",
       "      <td>...</td>\n",
       "      <td>0.000000</td>\n",
       "      <td>0.000000</td>\n",
       "      <td>0.000000</td>\n",
       "      <td>0.000000</td>\n",
       "      <td>0.0</td>\n",
       "      <td>2.000000</td>\n",
       "      <td>2.000000</td>\n",
       "      <td>172.000000</td>\n",
       "      <td>71.000000</td>\n",
       "      <td>1683.984756</td>\n",
       "    </tr>\n",
       "    <tr>\n",
       "      <th>75%</th>\n",
       "      <td>697.500000</td>\n",
       "      <td>0.000000</td>\n",
       "      <td>338.000000</td>\n",
       "      <td>4871.000000</td>\n",
       "      <td>2465.00000</td>\n",
       "      <td>5692.500000</td>\n",
       "      <td>6345.000000</td>\n",
       "      <td>4915.500000</td>\n",
       "      <td>6333.000000</td>\n",
       "      <td>8222.000000</td>\n",
       "      <td>...</td>\n",
       "      <td>0.000000</td>\n",
       "      <td>0.000000</td>\n",
       "      <td>0.000000</td>\n",
       "      <td>0.000000</td>\n",
       "      <td>0.0</td>\n",
       "      <td>3.000000</td>\n",
       "      <td>4.000000</td>\n",
       "      <td>179.000000</td>\n",
       "      <td>81.000000</td>\n",
       "      <td>3490.201220</td>\n",
       "    </tr>\n",
       "    <tr>\n",
       "      <th>max</th>\n",
       "      <td>929.000000</td>\n",
       "      <td>11157.000000</td>\n",
       "      <td>44944.000000</td>\n",
       "      <td>39165.000000</td>\n",
       "      <td>40392.00000</td>\n",
       "      <td>29862.000000</td>\n",
       "      <td>23902.000000</td>\n",
       "      <td>31254.000000</td>\n",
       "      <td>23836.000000</td>\n",
       "      <td>43238.000000</td>\n",
       "      <td>...</td>\n",
       "      <td>33379.000000</td>\n",
       "      <td>27605.000000</td>\n",
       "      <td>36031.000000</td>\n",
       "      <td>15098.000000</td>\n",
       "      <td>0.0</td>\n",
       "      <td>11.000000</td>\n",
       "      <td>5.000000</td>\n",
       "      <td>195.000000</td>\n",
       "      <td>155.000000</td>\n",
       "      <td>14539.310976</td>\n",
       "    </tr>\n",
       "  </tbody>\n",
       "</table>\n",
       "<p>8 rows × 334 columns</p>\n",
       "</div>"
      ],
      "text/plain": [
       "               id     20-6-2013     21-6-2013     22-6-2013    23-6-2013  \\\n",
       "count  927.000000    927.000000    927.000000    927.000000    927.00000   \n",
       "mean   465.837109     94.032362   2350.083064   3253.645092   2359.18986   \n",
       "std    268.001492    850.205391   5145.696743   6061.281662   5136.03089   \n",
       "min      1.000000      0.000000      0.000000      0.000000      0.00000   \n",
       "25%    234.500000      0.000000      0.000000      0.000000      0.00000   \n",
       "50%    466.000000      0.000000      0.000000      0.000000      0.00000   \n",
       "75%    697.500000      0.000000    338.000000   4871.000000   2465.00000   \n",
       "max    929.000000  11157.000000  44944.000000  39165.000000  40392.00000   \n",
       "\n",
       "          24-6-2013     25-6-2013     26-6-2013     27-6-2013     28-6-2013  \\\n",
       "count    927.000000    927.000000    927.000000    927.000000    927.000000   \n",
       "mean    3056.166127   3294.824164   2936.400216   3368.039914   4139.856526   \n",
       "std     5126.202354   5161.967598   5233.936220   4913.674629   5786.972761   \n",
       "min        0.000000      0.000000      0.000000      0.000000      0.000000   \n",
       "25%        0.000000      0.000000      0.000000      0.000000      0.000000   \n",
       "50%        0.000000      0.000000      0.000000      0.000000      0.000000   \n",
       "75%     5692.500000   6345.000000   4915.500000   6333.000000   8222.000000   \n",
       "max    29862.000000  23902.000000  31254.000000  23836.000000  43238.000000   \n",
       "\n",
       "       ...      9-5-2014     10-5-2014     11-5-2014     12-5-2014  13-5-2014  \\\n",
       "count  ...    927.000000    927.000000    927.000000    927.000000      927.0   \n",
       "mean   ...    708.371090    690.938511    565.380798    498.063646        0.0   \n",
       "std    ...   3153.672926   2735.483143   3019.318454   2024.396072        0.0   \n",
       "min    ...      0.000000      0.000000      0.000000      0.000000        0.0   \n",
       "25%    ...      0.000000      0.000000      0.000000      0.000000        0.0   \n",
       "50%    ...      0.000000      0.000000      0.000000      0.000000        0.0   \n",
       "75%    ...      0.000000      0.000000      0.000000      0.000000        0.0   \n",
       "max    ...  33379.000000  27605.000000  36031.000000  15098.000000        0.0   \n",
       "\n",
       "          hh_size   education      height      weight  \\\n",
       "count  927.000000  927.000000  927.000000  927.000000   \n",
       "mean     2.338727    2.527508  171.515642   72.004315   \n",
       "std      1.225027    1.274034   10.669769   16.029131   \n",
       "min      1.000000    1.000000    0.000000    0.000000   \n",
       "25%      1.000000    1.000000  165.000000   61.000000   \n",
       "50%      2.000000    2.000000  172.000000   71.000000   \n",
       "75%      3.000000    4.000000  179.000000   81.000000   \n",
       "max     11.000000    5.000000  195.000000  155.000000   \n",
       "\n",
       "       mean steps per participant  \n",
       "count                  927.000000  \n",
       "mean                  2344.568070  \n",
       "std                   2368.272498  \n",
       "min                      0.054878  \n",
       "25%                    434.861280  \n",
       "50%                   1683.984756  \n",
       "75%                   3490.201220  \n",
       "max                  14539.310976  \n",
       "\n",
       "[8 rows x 334 columns]"
      ]
     },
     "execution_count": 10,
     "metadata": {},
     "output_type": "execute_result"
    }
   ],
   "source": [
    "df.describe()"
   ]
  },
  {
   "cell_type": "code",
   "execution_count": 11,
   "id": "7c8836d9",
   "metadata": {},
   "outputs": [
    {
     "data": {
      "text/plain": [
       "<AxesSubplot:xlabel='age', ylabel='mean steps per participant'>"
      ]
     },
     "execution_count": 11,
     "metadata": {},
     "output_type": "execute_result"
    },
    {
     "data": {
      "image/png": "[encoded data removed]",
      "text/plain": [
       "<Figure size 432x288 with 1 Axes>"
      ]
     },
     "metadata": {
      "needs_background": "light"
     },
     "output_type": "display_data"
    }
   ],
   "source": [
    "sns.violinplot(x='age',y= 'mean steps per participant', data=df)"
   ]
  },
  {
   "cell_type": "code",
   "execution_count": 16,
   "id": "11a5d4a7",
   "metadata": {},
   "outputs": [
    {
     "data": {
      "text/plain": [
       "<AxesSubplot:xlabel='education', ylabel='mean steps per participant'>"
      ]
     },
     "execution_count": 16,
     "metadata": {},
     "output_type": "execute_result"
    },
    {
     "data": {
      "image/png": "[encoded data removed]",
      "text/plain": [
       "<Figure size 432x288 with 1 Axes>"
      ]
     },
     "metadata": {
      "needs_background": "light"
     },
     "output_type": "display_data"
    }
   ],
   "source": [
    "sns.boxplot(x='education',y= 'mean steps per participant', data=df)"
   ]
  },
  {
   "cell_type": "markdown",
   "id": "220b3bcc",
   "metadata": {},
   "source": [
    "Bij mensen van 65+ zijn er weinig mensen die veel stappen maken"
   ]
  },
  {
   "cell_type": "markdown",
   "id": "fa1a721d",
   "metadata": {},
   "source": [
    "Mensen met een hogere educatie maken niet meer stappen "
   ]
  }
 ],
 "metadata": {
  "kernelspec": {
   "display_name": "Python 3",
   "language": "python",
   "name": "python3"
  },
  "language_info": {
   "codemirror_mode": {
    "name": "ipython",
    "version": 3
   },
   "file_extension": ".py",
   "mimetype": "text/x-python",
   "name": "python",
   "nbconvert_exporter": "python",
   "pygments_lexer": "ipython3",
   "version": "3.8.8"
  }
 },
 "nbformat": 4,
 "nbformat_minor": 5
}
