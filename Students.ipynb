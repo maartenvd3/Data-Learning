{
 "cells": [
  {
   "cell_type": "markdown",
   "id": "d0de667c",
   "metadata": {},
   "source": [
    "# Examencijfers voorspellen"
   ]
  },
  {
   "cell_type": "markdown",
   "id": "5560d088",
   "metadata": {},
   "source": [
    "In dit bestand staan 12.000 examenresultaten van studenten in Colombia. Al deze studenten hebben een vragenlijst ingevuld met informatie over andere sociaal-economische aspecten zoals thuissituatie, hoeveel ze werken etc. "
   ]
  },
  {
   "cell_type": "markdown",
   "id": "35012618",
   "metadata": {},
   "source": [
    "Scope:  Voor dit project worden de Engels cijfers van de middelbare school (ENG_S11) voorspelt. "
   ]
  },
  {
   "cell_type": "markdown",
   "id": "f57eeba4",
   "metadata": {},
   "source": [
    "Data van de universiteiten worden niet gebruikt, alleen die van de middelbare school."
   ]
  },
  {
   "cell_type": "code",
   "execution_count": 1,
   "id": "4ff367ec",
   "metadata": {},
   "outputs": [],
   "source": [
    "import seaborn as sns # Het inladen van alle pakketten \n",
    "import sklearn as sk\n",
    "import pandas as pd\n",
    "import matplotlib.pyplot as plt\n",
    "import math\n",
    "from sklearn.linear_model import LinearRegression \n",
    "from sklearn.model_selection import train_test_split \n",
    "from sklearn.metrics import mean_squared_error\n",
    "from sklearn.metrics import r2_score\n",
    "import numpy as np"
   ]
  },
  {
   "cell_type": "code",
   "execution_count": 2,
   "id": "7281facb",
   "metadata": {},
   "outputs": [],
   "source": [
    "df = pd.read_excel('Students.xlsx') #Het inlezen van het Excel bestand"
   ]
  },
  {
   "cell_type": "markdown",
   "id": "988a8e3a",
   "metadata": {},
   "source": [
    "## Data Cleaning"
   ]
  },
  {
   "cell_type": "markdown",
   "id": "53ddc420",
   "metadata": {},
   "source": [
    "Een eerste indruk krijgen van de dataset "
   ]
  },
  {
   "cell_type": "code",
   "execution_count": 3,
   "id": "0649a116",
   "metadata": {},
   "outputs": [
    {
     "data": {
      "text/html": [
       "<div>\n",
       "<style scoped>\n",
       "    .dataframe tbody tr th:only-of-type {\n",
       "        vertical-align: middle;\n",
       "    }\n",
       "\n",
       "    .dataframe tbody tr th {\n",
       "        vertical-align: top;\n",
       "    }\n",
       "\n",
       "    .dataframe thead th {\n",
       "        text-align: right;\n",
       "    }\n",
       "</style>\n",
       "<table border=\"1\" class=\"dataframe\">\n",
       "  <thead>\n",
       "    <tr style=\"text-align: right;\">\n",
       "      <th></th>\n",
       "      <th>COD_S11</th>\n",
       "      <th>GENDER</th>\n",
       "      <th>EDU_FATHER</th>\n",
       "      <th>EDU_MOTHER</th>\n",
       "      <th>OCC_FATHER</th>\n",
       "      <th>OCC_MOTHER</th>\n",
       "      <th>STRATUM</th>\n",
       "      <th>SISBEN</th>\n",
       "      <th>PEOPLE_HOUSE</th>\n",
       "      <th>Unnamed: 9</th>\n",
       "      <th>...</th>\n",
       "      <th>CC_PRO</th>\n",
       "      <th>ENG_PRO</th>\n",
       "      <th>WC_PRO</th>\n",
       "      <th>FEP_PRO</th>\n",
       "      <th>G_SC</th>\n",
       "      <th>PERCENTILE</th>\n",
       "      <th>2ND_DECILE</th>\n",
       "      <th>QUARTILE</th>\n",
       "      <th>SEL</th>\n",
       "      <th>SEL_IHE</th>\n",
       "    </tr>\n",
       "  </thead>\n",
       "  <tbody>\n",
       "    <tr>\n",
       "      <th>0</th>\n",
       "      <td>SB11201210000129</td>\n",
       "      <td>F</td>\n",
       "      <td>Incomplete Professional Education</td>\n",
       "      <td>Complete technique or technology</td>\n",
       "      <td>Technical or professional level employee</td>\n",
       "      <td>Home</td>\n",
       "      <td>Stratum 4</td>\n",
       "      <td>It is not classified by the SISBEN</td>\n",
       "      <td>Three</td>\n",
       "      <td>NaN</td>\n",
       "      <td>...</td>\n",
       "      <td>71</td>\n",
       "      <td>93</td>\n",
       "      <td>79</td>\n",
       "      <td>181</td>\n",
       "      <td>180</td>\n",
       "      <td>91</td>\n",
       "      <td>5</td>\n",
       "      <td>4</td>\n",
       "      <td>2</td>\n",
       "      <td>2</td>\n",
       "    </tr>\n",
       "    <tr>\n",
       "      <th>1</th>\n",
       "      <td>SB11201210000137</td>\n",
       "      <td>F</td>\n",
       "      <td>Complete Secundary</td>\n",
       "      <td>Complete professional education</td>\n",
       "      <td>Entrepreneur</td>\n",
       "      <td>Independent professional</td>\n",
       "      <td>Stratum 5</td>\n",
       "      <td>It is not classified by the SISBEN</td>\n",
       "      <td>Three</td>\n",
       "      <td>NaN</td>\n",
       "      <td>...</td>\n",
       "      <td>86</td>\n",
       "      <td>98</td>\n",
       "      <td>78</td>\n",
       "      <td>201</td>\n",
       "      <td>182</td>\n",
       "      <td>92</td>\n",
       "      <td>5</td>\n",
       "      <td>4</td>\n",
       "      <td>4</td>\n",
       "      <td>4</td>\n",
       "    </tr>\n",
       "    <tr>\n",
       "      <th>2</th>\n",
       "      <td>SB11201210005154</td>\n",
       "      <td>M</td>\n",
       "      <td>Not sure</td>\n",
       "      <td>Not sure</td>\n",
       "      <td>Independent</td>\n",
       "      <td>Home</td>\n",
       "      <td>Stratum 2</td>\n",
       "      <td>Level 2</td>\n",
       "      <td>Five</td>\n",
       "      <td>NaN</td>\n",
       "      <td>...</td>\n",
       "      <td>18</td>\n",
       "      <td>43</td>\n",
       "      <td>22</td>\n",
       "      <td>113</td>\n",
       "      <td>113</td>\n",
       "      <td>7</td>\n",
       "      <td>1</td>\n",
       "      <td>1</td>\n",
       "      <td>1</td>\n",
       "      <td>1</td>\n",
       "    </tr>\n",
       "    <tr>\n",
       "      <th>3</th>\n",
       "      <td>SB11201210007504</td>\n",
       "      <td>F</td>\n",
       "      <td>Not sure</td>\n",
       "      <td>Not sure</td>\n",
       "      <td>Other occupation</td>\n",
       "      <td>Independent</td>\n",
       "      <td>Stratum 2</td>\n",
       "      <td>It is not classified by the SISBEN</td>\n",
       "      <td>Three</td>\n",
       "      <td>NaN</td>\n",
       "      <td>...</td>\n",
       "      <td>76</td>\n",
       "      <td>80</td>\n",
       "      <td>48</td>\n",
       "      <td>137</td>\n",
       "      <td>157</td>\n",
       "      <td>67</td>\n",
       "      <td>4</td>\n",
       "      <td>3</td>\n",
       "      <td>2</td>\n",
       "      <td>2</td>\n",
       "    </tr>\n",
       "    <tr>\n",
       "      <th>4</th>\n",
       "      <td>SB11201210007548</td>\n",
       "      <td>M</td>\n",
       "      <td>Complete professional education</td>\n",
       "      <td>Complete professional education</td>\n",
       "      <td>Executive</td>\n",
       "      <td>Home</td>\n",
       "      <td>Stratum 4</td>\n",
       "      <td>It is not classified by the SISBEN</td>\n",
       "      <td>One</td>\n",
       "      <td>NaN</td>\n",
       "      <td>...</td>\n",
       "      <td>98</td>\n",
       "      <td>100</td>\n",
       "      <td>71</td>\n",
       "      <td>189</td>\n",
       "      <td>198</td>\n",
       "      <td>98</td>\n",
       "      <td>5</td>\n",
       "      <td>4</td>\n",
       "      <td>4</td>\n",
       "      <td>2</td>\n",
       "    </tr>\n",
       "  </tbody>\n",
       "</table>\n",
       "<p>5 rows × 45 columns</p>\n",
       "</div>"
      ],
      "text/plain": [
       "            COD_S11 GENDER                         EDU_FATHER  \\\n",
       "0  SB11201210000129      F  Incomplete Professional Education   \n",
       "1  SB11201210000137      F                 Complete Secundary   \n",
       "2  SB11201210005154      M                           Not sure   \n",
       "3  SB11201210007504      F                           Not sure   \n",
       "4  SB11201210007548      M    Complete professional education   \n",
       "\n",
       "                         EDU_MOTHER                                OCC_FATHER  \\\n",
       "0  Complete technique or technology  Technical or professional level employee   \n",
       "1   Complete professional education                             Entrepreneur    \n",
       "2                          Not sure                               Independent   \n",
       "3                          Not sure                          Other occupation   \n",
       "4   Complete professional education                                 Executive   \n",
       "\n",
       "                 OCC_MOTHER    STRATUM                              SISBEN  \\\n",
       "0                      Home  Stratum 4  It is not classified by the SISBEN   \n",
       "1  Independent professional  Stratum 5  It is not classified by the SISBEN   \n",
       "2                      Home  Stratum 2                             Level 2   \n",
       "3               Independent  Stratum 2  It is not classified by the SISBEN   \n",
       "4                      Home  Stratum 4  It is not classified by the SISBEN   \n",
       "\n",
       "  PEOPLE_HOUSE  Unnamed: 9  ... CC_PRO ENG_PRO WC_PRO FEP_PRO G_SC PERCENTILE  \\\n",
       "0        Three         NaN  ...     71      93     79     181  180         91   \n",
       "1        Three         NaN  ...     86      98     78     201  182         92   \n",
       "2         Five         NaN  ...     18      43     22     113  113          7   \n",
       "3        Three         NaN  ...     76      80     48     137  157         67   \n",
       "4          One         NaN  ...     98     100     71     189  198         98   \n",
       "\n",
       "  2ND_DECILE QUARTILE SEL SEL_IHE  \n",
       "0          5        4   2       2  \n",
       "1          5        4   4       4  \n",
       "2          1        1   1       1  \n",
       "3          4        3   2       2  \n",
       "4          5        4   4       2  \n",
       "\n",
       "[5 rows x 45 columns]"
      ]
     },
     "execution_count": 3,
     "metadata": {},
     "output_type": "execute_result"
    }
   ],
   "source": [
    "df.head()"
   ]
  },
  {
   "cell_type": "markdown",
   "id": "e11d527b",
   "metadata": {},
   "source": [
    "Zo te zien is er een kolom genaamd 'Unnamed:9'. Deze kolom bevat alleen maar NAN's, daarom wordt deze verwijderd."
   ]
  },
  {
   "cell_type": "code",
   "execution_count": 4,
   "id": "d123133f",
   "metadata": {},
   "outputs": [],
   "source": [
    "df = df.drop(\"Unnamed: 9\",axis=1)"
   ]
  },
  {
   "cell_type": "code",
   "execution_count": 5,
   "id": "c3250357",
   "metadata": {},
   "outputs": [
    {
     "data": {
      "text/html": [
       "<div>\n",
       "<style scoped>\n",
       "    .dataframe tbody tr th:only-of-type {\n",
       "        vertical-align: middle;\n",
       "    }\n",
       "\n",
       "    .dataframe tbody tr th {\n",
       "        vertical-align: top;\n",
       "    }\n",
       "\n",
       "    .dataframe thead th {\n",
       "        text-align: right;\n",
       "    }\n",
       "</style>\n",
       "<table border=\"1\" class=\"dataframe\">\n",
       "  <thead>\n",
       "    <tr style=\"text-align: right;\">\n",
       "      <th></th>\n",
       "      <th>COD_S11</th>\n",
       "      <th>GENDER</th>\n",
       "      <th>EDU_FATHER</th>\n",
       "      <th>EDU_MOTHER</th>\n",
       "      <th>OCC_FATHER</th>\n",
       "      <th>OCC_MOTHER</th>\n",
       "      <th>STRATUM</th>\n",
       "      <th>SISBEN</th>\n",
       "      <th>PEOPLE_HOUSE</th>\n",
       "      <th>INTERNET</th>\n",
       "      <th>...</th>\n",
       "      <th>CC_PRO</th>\n",
       "      <th>ENG_PRO</th>\n",
       "      <th>WC_PRO</th>\n",
       "      <th>FEP_PRO</th>\n",
       "      <th>G_SC</th>\n",
       "      <th>PERCENTILE</th>\n",
       "      <th>2ND_DECILE</th>\n",
       "      <th>QUARTILE</th>\n",
       "      <th>SEL</th>\n",
       "      <th>SEL_IHE</th>\n",
       "    </tr>\n",
       "  </thead>\n",
       "  <tbody>\n",
       "    <tr>\n",
       "      <th>0</th>\n",
       "      <td>SB11201210000129</td>\n",
       "      <td>F</td>\n",
       "      <td>Incomplete Professional Education</td>\n",
       "      <td>Complete technique or technology</td>\n",
       "      <td>Technical or professional level employee</td>\n",
       "      <td>Home</td>\n",
       "      <td>Stratum 4</td>\n",
       "      <td>It is not classified by the SISBEN</td>\n",
       "      <td>Three</td>\n",
       "      <td>Yes</td>\n",
       "      <td>...</td>\n",
       "      <td>71</td>\n",
       "      <td>93</td>\n",
       "      <td>79</td>\n",
       "      <td>181</td>\n",
       "      <td>180</td>\n",
       "      <td>91</td>\n",
       "      <td>5</td>\n",
       "      <td>4</td>\n",
       "      <td>2</td>\n",
       "      <td>2</td>\n",
       "    </tr>\n",
       "    <tr>\n",
       "      <th>1</th>\n",
       "      <td>SB11201210000137</td>\n",
       "      <td>F</td>\n",
       "      <td>Complete Secundary</td>\n",
       "      <td>Complete professional education</td>\n",
       "      <td>Entrepreneur</td>\n",
       "      <td>Independent professional</td>\n",
       "      <td>Stratum 5</td>\n",
       "      <td>It is not classified by the SISBEN</td>\n",
       "      <td>Three</td>\n",
       "      <td>Yes</td>\n",
       "      <td>...</td>\n",
       "      <td>86</td>\n",
       "      <td>98</td>\n",
       "      <td>78</td>\n",
       "      <td>201</td>\n",
       "      <td>182</td>\n",
       "      <td>92</td>\n",
       "      <td>5</td>\n",
       "      <td>4</td>\n",
       "      <td>4</td>\n",
       "      <td>4</td>\n",
       "    </tr>\n",
       "    <tr>\n",
       "      <th>2</th>\n",
       "      <td>SB11201210005154</td>\n",
       "      <td>M</td>\n",
       "      <td>Not sure</td>\n",
       "      <td>Not sure</td>\n",
       "      <td>Independent</td>\n",
       "      <td>Home</td>\n",
       "      <td>Stratum 2</td>\n",
       "      <td>Level 2</td>\n",
       "      <td>Five</td>\n",
       "      <td>No</td>\n",
       "      <td>...</td>\n",
       "      <td>18</td>\n",
       "      <td>43</td>\n",
       "      <td>22</td>\n",
       "      <td>113</td>\n",
       "      <td>113</td>\n",
       "      <td>7</td>\n",
       "      <td>1</td>\n",
       "      <td>1</td>\n",
       "      <td>1</td>\n",
       "      <td>1</td>\n",
       "    </tr>\n",
       "    <tr>\n",
       "      <th>3</th>\n",
       "      <td>SB11201210007504</td>\n",
       "      <td>F</td>\n",
       "      <td>Not sure</td>\n",
       "      <td>Not sure</td>\n",
       "      <td>Other occupation</td>\n",
       "      <td>Independent</td>\n",
       "      <td>Stratum 2</td>\n",
       "      <td>It is not classified by the SISBEN</td>\n",
       "      <td>Three</td>\n",
       "      <td>Yes</td>\n",
       "      <td>...</td>\n",
       "      <td>76</td>\n",
       "      <td>80</td>\n",
       "      <td>48</td>\n",
       "      <td>137</td>\n",
       "      <td>157</td>\n",
       "      <td>67</td>\n",
       "      <td>4</td>\n",
       "      <td>3</td>\n",
       "      <td>2</td>\n",
       "      <td>2</td>\n",
       "    </tr>\n",
       "    <tr>\n",
       "      <th>4</th>\n",
       "      <td>SB11201210007548</td>\n",
       "      <td>M</td>\n",
       "      <td>Complete professional education</td>\n",
       "      <td>Complete professional education</td>\n",
       "      <td>Executive</td>\n",
       "      <td>Home</td>\n",
       "      <td>Stratum 4</td>\n",
       "      <td>It is not classified by the SISBEN</td>\n",
       "      <td>One</td>\n",
       "      <td>Yes</td>\n",
       "      <td>...</td>\n",
       "      <td>98</td>\n",
       "      <td>100</td>\n",
       "      <td>71</td>\n",
       "      <td>189</td>\n",
       "      <td>198</td>\n",
       "      <td>98</td>\n",
       "      <td>5</td>\n",
       "      <td>4</td>\n",
       "      <td>4</td>\n",
       "      <td>2</td>\n",
       "    </tr>\n",
       "  </tbody>\n",
       "</table>\n",
       "<p>5 rows × 44 columns</p>\n",
       "</div>"
      ],
      "text/plain": [
       "            COD_S11 GENDER                         EDU_FATHER  \\\n",
       "0  SB11201210000129      F  Incomplete Professional Education   \n",
       "1  SB11201210000137      F                 Complete Secundary   \n",
       "2  SB11201210005154      M                           Not sure   \n",
       "3  SB11201210007504      F                           Not sure   \n",
       "4  SB11201210007548      M    Complete professional education   \n",
       "\n",
       "                         EDU_MOTHER                                OCC_FATHER  \\\n",
       "0  Complete technique or technology  Technical or professional level employee   \n",
       "1   Complete professional education                             Entrepreneur    \n",
       "2                          Not sure                               Independent   \n",
       "3                          Not sure                          Other occupation   \n",
       "4   Complete professional education                                 Executive   \n",
       "\n",
       "                 OCC_MOTHER    STRATUM                              SISBEN  \\\n",
       "0                      Home  Stratum 4  It is not classified by the SISBEN   \n",
       "1  Independent professional  Stratum 5  It is not classified by the SISBEN   \n",
       "2                      Home  Stratum 2                             Level 2   \n",
       "3               Independent  Stratum 2  It is not classified by the SISBEN   \n",
       "4                      Home  Stratum 4  It is not classified by the SISBEN   \n",
       "\n",
       "  PEOPLE_HOUSE INTERNET  ... CC_PRO ENG_PRO WC_PRO FEP_PRO G_SC PERCENTILE  \\\n",
       "0        Three      Yes  ...     71      93     79     181  180         91   \n",
       "1        Three      Yes  ...     86      98     78     201  182         92   \n",
       "2         Five       No  ...     18      43     22     113  113          7   \n",
       "3        Three      Yes  ...     76      80     48     137  157         67   \n",
       "4          One      Yes  ...     98     100     71     189  198         98   \n",
       "\n",
       "  2ND_DECILE QUARTILE SEL SEL_IHE  \n",
       "0          5        4   2       2  \n",
       "1          5        4   4       4  \n",
       "2          1        1   1       1  \n",
       "3          4        3   2       2  \n",
       "4          5        4   4       2  \n",
       "\n",
       "[5 rows x 44 columns]"
      ]
     },
     "execution_count": 5,
     "metadata": {},
     "output_type": "execute_result"
    }
   ],
   "source": [
    "df.head()"
   ]
  },
  {
   "cell_type": "markdown",
   "id": "849c4bee",
   "metadata": {},
   "source": [
    "De naam van de school is niet nodig voor het model. Dit geldt ook voor de kolom 'COD_S11' dus deze wordt ook verwijderd. 'COD_S11' is namelijk een soort studentnummer. "
   ]
  },
  {
   "cell_type": "code",
   "execution_count": 6,
   "id": "01a0f779",
   "metadata": {
    "scrolled": true
   },
   "outputs": [],
   "source": [
    "df = df.drop(['COD_S11', 'SCHOOL_NAME' ], axis = 1)"
   ]
  },
  {
   "cell_type": "code",
   "execution_count": 7,
   "id": "d7feb9f1",
   "metadata": {
    "scrolled": true
   },
   "outputs": [
    {
     "name": "stdout",
     "output_type": "stream",
     "text": [
      "<class 'pandas.core.frame.DataFrame'>\n",
      "RangeIndex: 12411 entries, 0 to 12410\n",
      "Data columns (total 42 columns):\n",
      " #   Column            Non-Null Count  Dtype \n",
      "---  ------            --------------  ----- \n",
      " 0   GENDER            12411 non-null  object\n",
      " 1   EDU_FATHER        12411 non-null  object\n",
      " 2   EDU_MOTHER        12411 non-null  object\n",
      " 3   OCC_FATHER        12411 non-null  object\n",
      " 4   OCC_MOTHER        12411 non-null  object\n",
      " 5   STRATUM           12411 non-null  object\n",
      " 6   SISBEN            12411 non-null  object\n",
      " 7   PEOPLE_HOUSE      12411 non-null  object\n",
      " 8   INTERNET          12411 non-null  object\n",
      " 9   TV                12411 non-null  object\n",
      " 10  COMPUTER          12411 non-null  object\n",
      " 11  WASHING_MCH       12411 non-null  object\n",
      " 12  MIC_OVEN          12411 non-null  object\n",
      " 13  CAR               12411 non-null  object\n",
      " 14  DVD               12411 non-null  object\n",
      " 15  FRESH             12411 non-null  object\n",
      " 16  PHONE             12411 non-null  object\n",
      " 17  MOBILE            12411 non-null  object\n",
      " 18  REVENUE           12411 non-null  object\n",
      " 19  JOB               12411 non-null  object\n",
      " 20  SCHOOL_NAT        12411 non-null  object\n",
      " 21  SCHOOL_TYPE       12411 non-null  object\n",
      " 22  MAT_S11           12411 non-null  int64 \n",
      " 23  CR_S11            12411 non-null  int64 \n",
      " 24  CC_S11            12411 non-null  int64 \n",
      " 25  BIO_S11           12411 non-null  int64 \n",
      " 26  ENG_S11           12411 non-null  int64 \n",
      " 27  Cod_SPro          12411 non-null  object\n",
      " 28  UNIVERSITY        12411 non-null  object\n",
      " 29  ACADEMIC_PROGRAM  12411 non-null  object\n",
      " 30  QR_PRO            12411 non-null  int64 \n",
      " 31  CR_PRO            12411 non-null  int64 \n",
      " 32  CC_PRO            12411 non-null  int64 \n",
      " 33  ENG_PRO           12411 non-null  int64 \n",
      " 34  WC_PRO            12411 non-null  int64 \n",
      " 35  FEP_PRO           12411 non-null  int64 \n",
      " 36  G_SC              12411 non-null  int64 \n",
      " 37  PERCENTILE        12411 non-null  int64 \n",
      " 38  2ND_DECILE        12411 non-null  int64 \n",
      " 39  QUARTILE          12411 non-null  int64 \n",
      " 40  SEL               12411 non-null  int64 \n",
      " 41  SEL_IHE           12411 non-null  int64 \n",
      "dtypes: int64(17), object(25)\n",
      "memory usage: 4.0+ MB\n"
     ]
    }
   ],
   "source": [
    "df.info()"
   ]
  },
  {
   "cell_type": "markdown",
   "id": "1d65e285",
   "metadata": {},
   "source": [
    "Voor dit model worden alleen de Engels cijfers van de middelbare school voorspelt. Alle data over de universiteiten is daarom niet nodig. Kolom 27 t/m 41 worden daarom verwijderd. Er zijn verder geen NAN's dus dat is goed.   "
   ]
  },
  {
   "cell_type": "code",
   "execution_count": 8,
   "id": "1fcb5d36",
   "metadata": {},
   "outputs": [],
   "source": [
    "df = df.iloc[:, : 27 ]"
   ]
  },
  {
   "cell_type": "markdown",
   "id": "96f81846",
   "metadata": {},
   "source": [
    "Checken of de juiste kolommen zijn verwijderd"
   ]
  },
  {
   "cell_type": "code",
   "execution_count": 9,
   "id": "5f63b33e",
   "metadata": {
    "scrolled": true
   },
   "outputs": [
    {
     "name": "stdout",
     "output_type": "stream",
     "text": [
      "<class 'pandas.core.frame.DataFrame'>\n",
      "RangeIndex: 12411 entries, 0 to 12410\n",
      "Data columns (total 27 columns):\n",
      " #   Column        Non-Null Count  Dtype \n",
      "---  ------        --------------  ----- \n",
      " 0   GENDER        12411 non-null  object\n",
      " 1   EDU_FATHER    12411 non-null  object\n",
      " 2   EDU_MOTHER    12411 non-null  object\n",
      " 3   OCC_FATHER    12411 non-null  object\n",
      " 4   OCC_MOTHER    12411 non-null  object\n",
      " 5   STRATUM       12411 non-null  object\n",
      " 6   SISBEN        12411 non-null  object\n",
      " 7   PEOPLE_HOUSE  12411 non-null  object\n",
      " 8   INTERNET      12411 non-null  object\n",
      " 9   TV            12411 non-null  object\n",
      " 10  COMPUTER      12411 non-null  object\n",
      " 11  WASHING_MCH   12411 non-null  object\n",
      " 12  MIC_OVEN      12411 non-null  object\n",
      " 13  CAR           12411 non-null  object\n",
      " 14  DVD           12411 non-null  object\n",
      " 15  FRESH         12411 non-null  object\n",
      " 16  PHONE         12411 non-null  object\n",
      " 17  MOBILE        12411 non-null  object\n",
      " 18  REVENUE       12411 non-null  object\n",
      " 19  JOB           12411 non-null  object\n",
      " 20  SCHOOL_NAT    12411 non-null  object\n",
      " 21  SCHOOL_TYPE   12411 non-null  object\n",
      " 22  MAT_S11       12411 non-null  int64 \n",
      " 23  CR_S11        12411 non-null  int64 \n",
      " 24  CC_S11        12411 non-null  int64 \n",
      " 25  BIO_S11       12411 non-null  int64 \n",
      " 26  ENG_S11       12411 non-null  int64 \n",
      "dtypes: int64(5), object(22)\n",
      "memory usage: 2.6+ MB\n"
     ]
    }
   ],
   "source": [
    "df.info()"
   ]
  },
  {
   "cell_type": "markdown",
   "id": "9276fb5c",
   "metadata": {},
   "source": [
    "Nu gaan we bekijken hoeveel verschillende waardes er zijn voor de educatie van de vader "
   ]
  },
  {
   "cell_type": "code",
   "execution_count": 10,
   "id": "a23acfef",
   "metadata": {
    "scrolled": true
   },
   "outputs": [
    {
     "data": {
      "text/plain": [
       "Complete professional education          3016\n",
       "Complete Secundary                       2843\n",
       "Complete technique or technology         1194\n",
       "Incomplete Secundary                     1091\n",
       "Postgraduate education                   1085\n",
       "Complete primary                          824\n",
       "Incomplete primary                        735\n",
       "Incomplete Professional Education         425\n",
       "Not sure                                  407\n",
       "0                                         391\n",
       "Incomplete technical or technological     277\n",
       "Ninguno                                   123\n",
       "Name: EDU_FATHER, dtype: int64"
      ]
     },
     "execution_count": 10,
     "metadata": {},
     "output_type": "execute_result"
    }
   ],
   "source": [
    "df['EDU_FATHER'].value_counts()"
   ]
  },
  {
   "cell_type": "markdown",
   "id": "1a02592a",
   "metadata": {},
   "source": [
    "Zo te zien is er een aantal keer '0' ingevuld. Dit klopt niet dus hier wordt verder naar gekeken. "
   ]
  },
  {
   "cell_type": "code",
   "execution_count": 11,
   "id": "36e5ccf2",
   "metadata": {
    "scrolled": false
   },
   "outputs": [
    {
     "data": {
      "text/html": [
       "<div>\n",
       "<style scoped>\n",
       "    .dataframe tbody tr th:only-of-type {\n",
       "        vertical-align: middle;\n",
       "    }\n",
       "\n",
       "    .dataframe tbody tr th {\n",
       "        vertical-align: top;\n",
       "    }\n",
       "\n",
       "    .dataframe thead th {\n",
       "        text-align: right;\n",
       "    }\n",
       "</style>\n",
       "<table border=\"1\" class=\"dataframe\">\n",
       "  <thead>\n",
       "    <tr style=\"text-align: right;\">\n",
       "      <th></th>\n",
       "      <th>GENDER</th>\n",
       "      <th>EDU_FATHER</th>\n",
       "      <th>EDU_MOTHER</th>\n",
       "      <th>OCC_FATHER</th>\n",
       "      <th>OCC_MOTHER</th>\n",
       "      <th>STRATUM</th>\n",
       "      <th>SISBEN</th>\n",
       "      <th>PEOPLE_HOUSE</th>\n",
       "      <th>INTERNET</th>\n",
       "      <th>TV</th>\n",
       "      <th>...</th>\n",
       "      <th>MOBILE</th>\n",
       "      <th>REVENUE</th>\n",
       "      <th>JOB</th>\n",
       "      <th>SCHOOL_NAT</th>\n",
       "      <th>SCHOOL_TYPE</th>\n",
       "      <th>MAT_S11</th>\n",
       "      <th>CR_S11</th>\n",
       "      <th>CC_S11</th>\n",
       "      <th>BIO_S11</th>\n",
       "      <th>ENG_S11</th>\n",
       "    </tr>\n",
       "  </thead>\n",
       "  <tbody>\n",
       "    <tr>\n",
       "      <th>171</th>\n",
       "      <td>F</td>\n",
       "      <td>0</td>\n",
       "      <td>0</td>\n",
       "      <td>0</td>\n",
       "      <td>Home</td>\n",
       "      <td>Stratum 3</td>\n",
       "      <td>It is not classified by the SISBEN</td>\n",
       "      <td>Five</td>\n",
       "      <td>Yes</td>\n",
       "      <td>Yes</td>\n",
       "      <td>...</td>\n",
       "      <td>Yes</td>\n",
       "      <td>Between 1 and less than 2 LMMW</td>\n",
       "      <td>No</td>\n",
       "      <td>PUBLIC</td>\n",
       "      <td>TECHNICAL/ACADEMIC</td>\n",
       "      <td>53</td>\n",
       "      <td>57</td>\n",
       "      <td>52</td>\n",
       "      <td>51</td>\n",
       "      <td>52</td>\n",
       "    </tr>\n",
       "    <tr>\n",
       "      <th>172</th>\n",
       "      <td>M</td>\n",
       "      <td>0</td>\n",
       "      <td>0</td>\n",
       "      <td>0</td>\n",
       "      <td>0</td>\n",
       "      <td>Stratum 2</td>\n",
       "      <td>Level 2</td>\n",
       "      <td>Two</td>\n",
       "      <td>Yes</td>\n",
       "      <td>Yes</td>\n",
       "      <td>...</td>\n",
       "      <td>Yes</td>\n",
       "      <td>Between 1 and less than 2 LMMW</td>\n",
       "      <td>No</td>\n",
       "      <td>PUBLIC</td>\n",
       "      <td>ACADEMIC</td>\n",
       "      <td>62</td>\n",
       "      <td>59</td>\n",
       "      <td>57</td>\n",
       "      <td>58</td>\n",
       "      <td>65</td>\n",
       "    </tr>\n",
       "    <tr>\n",
       "      <th>181</th>\n",
       "      <td>M</td>\n",
       "      <td>0</td>\n",
       "      <td>Postgraduate education</td>\n",
       "      <td>Independent professional</td>\n",
       "      <td>0</td>\n",
       "      <td>Stratum 3</td>\n",
       "      <td>It is not classified by the SISBEN</td>\n",
       "      <td>Three</td>\n",
       "      <td>Yes</td>\n",
       "      <td>Yes</td>\n",
       "      <td>...</td>\n",
       "      <td>No</td>\n",
       "      <td>Between 3 and less than 5 LMMW</td>\n",
       "      <td>No</td>\n",
       "      <td>PUBLIC</td>\n",
       "      <td>TECHNICAL</td>\n",
       "      <td>44</td>\n",
       "      <td>49</td>\n",
       "      <td>52</td>\n",
       "      <td>47</td>\n",
       "      <td>43</td>\n",
       "    </tr>\n",
       "    <tr>\n",
       "      <th>195</th>\n",
       "      <td>F</td>\n",
       "      <td>0</td>\n",
       "      <td>0</td>\n",
       "      <td>0</td>\n",
       "      <td>Home</td>\n",
       "      <td>Stratum 3</td>\n",
       "      <td>It is not classified by the SISBEN</td>\n",
       "      <td>Six</td>\n",
       "      <td>No</td>\n",
       "      <td>No</td>\n",
       "      <td>...</td>\n",
       "      <td>Yes</td>\n",
       "      <td>less than 1 LMMW</td>\n",
       "      <td>0</td>\n",
       "      <td>PUBLIC</td>\n",
       "      <td>ACADEMIC</td>\n",
       "      <td>72</td>\n",
       "      <td>62</td>\n",
       "      <td>62</td>\n",
       "      <td>72</td>\n",
       "      <td>62</td>\n",
       "    </tr>\n",
       "    <tr>\n",
       "      <th>197</th>\n",
       "      <td>F</td>\n",
       "      <td>0</td>\n",
       "      <td>Complete primary</td>\n",
       "      <td>0</td>\n",
       "      <td>0</td>\n",
       "      <td>Stratum 2</td>\n",
       "      <td>It is not classified by the SISBEN</td>\n",
       "      <td>Four</td>\n",
       "      <td>Yes</td>\n",
       "      <td>Yes</td>\n",
       "      <td>...</td>\n",
       "      <td>Yes</td>\n",
       "      <td>Between 1 and less than 2 LMMW</td>\n",
       "      <td>0</td>\n",
       "      <td>PRIVATE</td>\n",
       "      <td>TECHNICAL/ACADEMIC</td>\n",
       "      <td>68</td>\n",
       "      <td>60</td>\n",
       "      <td>62</td>\n",
       "      <td>61</td>\n",
       "      <td>80</td>\n",
       "    </tr>\n",
       "  </tbody>\n",
       "</table>\n",
       "<p>5 rows × 27 columns</p>\n",
       "</div>"
      ],
      "text/plain": [
       "    GENDER EDU_FATHER              EDU_MOTHER                OCC_FATHER  \\\n",
       "171      F          0                       0                         0   \n",
       "172      M          0                       0                         0   \n",
       "181      M          0  Postgraduate education  Independent professional   \n",
       "195      F          0                       0                         0   \n",
       "197      F          0       Complete primary                          0   \n",
       "\n",
       "    OCC_MOTHER    STRATUM                              SISBEN PEOPLE_HOUSE  \\\n",
       "171       Home  Stratum 3  It is not classified by the SISBEN         Five   \n",
       "172          0  Stratum 2                             Level 2          Two   \n",
       "181          0  Stratum 3  It is not classified by the SISBEN        Three   \n",
       "195       Home  Stratum 3  It is not classified by the SISBEN          Six   \n",
       "197          0  Stratum 2  It is not classified by the SISBEN         Four   \n",
       "\n",
       "    INTERNET   TV  ... MOBILE                         REVENUE JOB SCHOOL_NAT  \\\n",
       "171      Yes  Yes  ...    Yes  Between 1 and less than 2 LMMW  No     PUBLIC   \n",
       "172      Yes  Yes  ...    Yes  Between 1 and less than 2 LMMW  No     PUBLIC   \n",
       "181      Yes  Yes  ...     No  Between 3 and less than 5 LMMW  No     PUBLIC   \n",
       "195       No   No  ...    Yes                less than 1 LMMW   0     PUBLIC   \n",
       "197      Yes  Yes  ...    Yes  Between 1 and less than 2 LMMW   0    PRIVATE   \n",
       "\n",
       "            SCHOOL_TYPE MAT_S11 CR_S11 CC_S11 BIO_S11 ENG_S11  \n",
       "171  TECHNICAL/ACADEMIC      53     57     52      51      52  \n",
       "172            ACADEMIC      62     59     57      58      65  \n",
       "181           TECHNICAL      44     49     52      47      43  \n",
       "195            ACADEMIC      72     62     62      72      62  \n",
       "197  TECHNICAL/ACADEMIC      68     60     62      61      80  \n",
       "\n",
       "[5 rows x 27 columns]"
      ]
     },
     "execution_count": 11,
     "metadata": {},
     "output_type": "execute_result"
    }
   ],
   "source": [
    "df[df['EDU_FATHER'] == 0].head()"
   ]
  },
  {
   "cell_type": "markdown",
   "id": "c77c5a8b",
   "metadata": {},
   "source": [
    "Er zijn studenten die onvolledige informatie geven en bij veel vragen 0 invullen. Dit wordt vooral gedaan bij de opleiding en baan van de vader en moeder. Bij de baan en salaris van de student vullen ze 0 in als ze de vragen niet willen beantwoorden. Omdat deze rijen geen goede data weergeven worden deze verwijderd"
   ]
  },
  {
   "cell_type": "code",
   "execution_count": 12,
   "id": "c93ac628",
   "metadata": {},
   "outputs": [],
   "source": [
    "df = df[df['EDU_FATHER'] != 0 ]\n",
    "df  = df[df['OCC_FATHER'] != 0]\n",
    "df = df[df['EDU_MOTHER'] != 0 ]\n",
    "df  = df[df['OCC_MOTHER'] != 0]\n",
    "df = df[df['REVENUE'] != 0 ]\n",
    "df  = df[df['JOB'] != 0]\n",
    "df  = df[df['STRATUM'] != 0]"
   ]
  },
  {
   "cell_type": "markdown",
   "id": "b68c7819",
   "metadata": {},
   "source": [
    "Checken hoeveel rijen er zijn verwijderd "
   ]
  },
  {
   "cell_type": "code",
   "execution_count": 13,
   "id": "3e170868",
   "metadata": {
    "scrolled": true
   },
   "outputs": [
    {
     "name": "stdout",
     "output_type": "stream",
     "text": [
      "<class 'pandas.core.frame.DataFrame'>\n",
      "Int64Index: 11207 entries, 0 to 12410\n",
      "Data columns (total 27 columns):\n",
      " #   Column        Non-Null Count  Dtype \n",
      "---  ------        --------------  ----- \n",
      " 0   GENDER        11207 non-null  object\n",
      " 1   EDU_FATHER    11207 non-null  object\n",
      " 2   EDU_MOTHER    11207 non-null  object\n",
      " 3   OCC_FATHER    11207 non-null  object\n",
      " 4   OCC_MOTHER    11207 non-null  object\n",
      " 5   STRATUM       11207 non-null  object\n",
      " 6   SISBEN        11207 non-null  object\n",
      " 7   PEOPLE_HOUSE  11207 non-null  object\n",
      " 8   INTERNET      11207 non-null  object\n",
      " 9   TV            11207 non-null  object\n",
      " 10  COMPUTER      11207 non-null  object\n",
      " 11  WASHING_MCH   11207 non-null  object\n",
      " 12  MIC_OVEN      11207 non-null  object\n",
      " 13  CAR           11207 non-null  object\n",
      " 14  DVD           11207 non-null  object\n",
      " 15  FRESH         11207 non-null  object\n",
      " 16  PHONE         11207 non-null  object\n",
      " 17  MOBILE        11207 non-null  object\n",
      " 18  REVENUE       11207 non-null  object\n",
      " 19  JOB           11207 non-null  object\n",
      " 20  SCHOOL_NAT    11207 non-null  object\n",
      " 21  SCHOOL_TYPE   11207 non-null  object\n",
      " 22  MAT_S11       11207 non-null  int64 \n",
      " 23  CR_S11        11207 non-null  int64 \n",
      " 24  CC_S11        11207 non-null  int64 \n",
      " 25  BIO_S11       11207 non-null  int64 \n",
      " 26  ENG_S11       11207 non-null  int64 \n",
      "dtypes: int64(5), object(22)\n",
      "memory usage: 2.4+ MB\n"
     ]
    }
   ],
   "source": [
    "df.info()"
   ]
  },
  {
   "cell_type": "markdown",
   "id": "372f141e",
   "metadata": {},
   "source": [
    "Er zijn nog 11.000 rijen over dus dat is meer dan genoeg"
   ]
  },
  {
   "cell_type": "markdown",
   "id": "8885802d",
   "metadata": {},
   "source": [
    "Nu gaan we kijken hoeveel waardes er zijn voor de kolom 'SISBEN' "
   ]
  },
  {
   "cell_type": "markdown",
   "id": "b8b0a634",
   "metadata": {},
   "source": [
    "SISBEN is een type verzekering voor Colombianen die dakloos zijn of een laag inkomen hebben. "
   ]
  },
  {
   "cell_type": "code",
   "execution_count": 14,
   "id": "28913816",
   "metadata": {
    "scrolled": false
   },
   "outputs": [
    {
     "data": {
      "text/plain": [
       "It is not classified by the SISBEN           6610\n",
       "Level 2                                      1995\n",
       "Level 1                                      1966\n",
       "Level 3                                       549\n",
       "Esta clasificada en otro Level del SISBEN      87\n",
       "Name: SISBEN, dtype: int64"
      ]
     },
     "execution_count": 14,
     "metadata": {},
     "output_type": "execute_result"
    }
   ],
   "source": [
    "df['SISBEN'].value_counts()"
   ]
  },
  {
   "cell_type": "markdown",
   "id": "359ff5d5",
   "metadata": {},
   "source": [
    "Deze kolom is nog een object, maar dit moet een integer worden. Alle strings worden er daarom uit gehaald. "
   ]
  },
  {
   "cell_type": "code",
   "execution_count": 15,
   "id": "50703884",
   "metadata": {},
   "outputs": [],
   "source": [
    "df['SISBEN'] = df['SISBEN'].str.replace('Level ', \"\")\n",
    "df['SISBEN'] = df['SISBEN'].str.replace('It is not classified by the SISBEN', \"0\")\n",
    "df['SISBEN'] = df['SISBEN'].str.replace('Esta clasificada en otro del SISBEN', \"0\")\n",
    "df['SISBEN'] = df['SISBEN'].astype('int64')"
   ]
  },
  {
   "cell_type": "markdown",
   "id": "19badcec",
   "metadata": {},
   "source": [
    "Checken of alle strings zijn verwijderd"
   ]
  },
  {
   "cell_type": "code",
   "execution_count": 16,
   "id": "2841a3e6",
   "metadata": {
    "scrolled": true
   },
   "outputs": [
    {
     "data": {
      "text/plain": [
       "0    6697\n",
       "2    1995\n",
       "1    1966\n",
       "3     549\n",
       "Name: SISBEN, dtype: int64"
      ]
     },
     "execution_count": 16,
     "metadata": {},
     "output_type": "execute_result"
    }
   ],
   "source": [
    "df['SISBEN'].value_counts()"
   ]
  },
  {
   "cell_type": "code",
   "execution_count": 17,
   "id": "078df480",
   "metadata": {
    "scrolled": false
   },
   "outputs": [
    {
     "data": {
      "text/plain": [
       "Four              4265\n",
       "Five              2624\n",
       "Three             2120\n",
       "Six               1004\n",
       "Two                519\n",
       "Seven              351\n",
       "Eight              148\n",
       "Nueve               71\n",
       "Ten                 46\n",
       "Twelve or more      31\n",
       "Once                16\n",
       "One                 12\n",
       "Name: PEOPLE_HOUSE, dtype: int64"
      ]
     },
     "execution_count": 17,
     "metadata": {},
     "output_type": "execute_result"
    }
   ],
   "source": [
    "df['PEOPLE_HOUSE'].value_counts()"
   ]
  },
  {
   "cell_type": "markdown",
   "id": "bc1220e6",
   "metadata": {},
   "source": [
    "Alle nummers zijn momenteel uitgeschreven. Deze kolom willen we ook als integer hebben. De uitgeschreven nummers worden met str.replace omgezet naar cijfers. "
   ]
  },
  {
   "cell_type": "code",
   "execution_count": 18,
   "id": "b18a7bae",
   "metadata": {},
   "outputs": [],
   "source": [
    "df['PEOPLE_HOUSE'] = df['PEOPLE_HOUSE'].str.replace('One', \"1\")\n",
    "df['PEOPLE_HOUSE'] = df['PEOPLE_HOUSE'].str.replace('Once', \"1\")\n",
    "df['PEOPLE_HOUSE'] = df['PEOPLE_HOUSE'].str.replace('Two', \"2\")\n",
    "df['PEOPLE_HOUSE'] = df['PEOPLE_HOUSE'].str.replace('Three', \"3\")\n",
    "df['PEOPLE_HOUSE'] = df['PEOPLE_HOUSE'].str.replace('Four', \"4\")\n",
    "df['PEOPLE_HOUSE'] = df['PEOPLE_HOUSE'].str.replace('Five', \"5\")\n",
    "df['PEOPLE_HOUSE'] = df['PEOPLE_HOUSE'].str.replace('Six', \"6\")\n",
    "df['PEOPLE_HOUSE'] = df['PEOPLE_HOUSE'].str.replace('Seven', \"7\")\n",
    "df['PEOPLE_HOUSE'] = df['PEOPLE_HOUSE'].str.replace('Eight', \"8\")\n",
    "df['PEOPLE_HOUSE'] = df['PEOPLE_HOUSE'].str.replace('Nueve', \"9\")\n",
    "df['PEOPLE_HOUSE'] = df['PEOPLE_HOUSE'].str.replace('Ten', \"10\")\n",
    "df['PEOPLE_HOUSE'] = df['PEOPLE_HOUSE'].str.replace('Twelve or more', \"12\")"
   ]
  },
  {
   "cell_type": "code",
   "execution_count": 19,
   "id": "54ae8f4b",
   "metadata": {},
   "outputs": [],
   "source": [
    "df['PEOPLE_HOUSE'] = df['PEOPLE_HOUSE'].astype('int64') #De kolom omzetten naar integers "
   ]
  },
  {
   "cell_type": "code",
   "execution_count": 20,
   "id": "ead026f5",
   "metadata": {},
   "outputs": [
    {
     "data": {
      "text/plain": [
       "4     4265\n",
       "5     2624\n",
       "3     2120\n",
       "6     1004\n",
       "2      519\n",
       "7      351\n",
       "8      148\n",
       "9       71\n",
       "10      46\n",
       "12      31\n",
       "1       28\n",
       "Name: PEOPLE_HOUSE, dtype: int64"
      ]
     },
     "execution_count": 20,
     "metadata": {},
     "output_type": "execute_result"
    }
   ],
   "source": [
    "df['PEOPLE_HOUSE'].value_counts()"
   ]
  },
  {
   "cell_type": "code",
   "execution_count": 21,
   "id": "54b9156f",
   "metadata": {
    "scrolled": true
   },
   "outputs": [
    {
     "data": {
      "text/plain": [
       "Between 1 and less than 2 LMMW     3608\n",
       "Between 2 and less than 3 LMMW     2597\n",
       "Between 3 and less than 5 LMMW     2083\n",
       "less than 1 LMMW                    983\n",
       "Between 5 and less than 7 LMMW      901\n",
       "10 or more LMMW                     585\n",
       "Between 7 and less than 10 LMMW     450\n",
       "Name: REVENUE, dtype: int64"
      ]
     },
     "execution_count": 21,
     "metadata": {},
     "output_type": "execute_result"
    }
   ],
   "source": [
    "df['REVENUE'].value_counts()"
   ]
  },
  {
   "cell_type": "code",
   "execution_count": 22,
   "id": "7d014af2",
   "metadata": {
    "scrolled": true
   },
   "outputs": [
    {
     "data": {
      "text/plain": [
       "Stratum 2    3773\n",
       "Stratum 3    3698\n",
       "Stratum 1    1626\n",
       "Stratum 4    1337\n",
       "Stratum 5     486\n",
       "Stratum 6     287\n",
       "Name: STRATUM, dtype: int64"
      ]
     },
     "execution_count": 22,
     "metadata": {},
     "output_type": "execute_result"
    }
   ],
   "source": [
    "df['STRATUM'].value_counts()"
   ]
  },
  {
   "cell_type": "markdown",
   "id": "a293ba57",
   "metadata": {},
   "source": [
    "In Colombia krijgen alle huizen een rating van 1 t/m 6 op basis van een sociaal economische schaal. Hoe hoger je rating hoe 'mooier' je huis is. Op dit moment is de kolom nog een object. Hiervan moet een integer worden gemaakt. "
   ]
  },
  {
   "cell_type": "code",
   "execution_count": 23,
   "id": "a37cfff0",
   "metadata": {
    "scrolled": true
   },
   "outputs": [
    {
     "data": {
      "text/plain": [
       "dtype('int64')"
      ]
     },
     "execution_count": 23,
     "metadata": {},
     "output_type": "execute_result"
    }
   ],
   "source": [
    "df['STRATUM'] = df['STRATUM'].str.replace('Stratum ', \"\")\n",
    "df['STRATUM'] = df['STRATUM'].astype('int64')\n",
    "df['STRATUM'].dtypes"
   ]
  },
  {
   "cell_type": "markdown",
   "id": "19b02509",
   "metadata": {},
   "source": [
    "Kolom 8 t/m 17 staat gaat over de faciliteiten die de studenten wel of niet hebben, zoals internet, mobiele telefoon, wasmachine etc. Deze staan allemaal aangegeven met 'Yes' of 'No'. Voor het model wordt aangepast een cijfer. 1 betekend 'Ja' en 0 betekend 'Nee'"
   ]
  },
  {
   "cell_type": "code",
   "execution_count": 24,
   "id": "e11426ba",
   "metadata": {},
   "outputs": [],
   "source": [
    "df = df.replace({'Yes': 1, 'No': 0}) #str.replace werkt niet voor een heel dataframe, daarom wordt .replace gebruikt"
   ]
  },
  {
   "cell_type": "code",
   "execution_count": 25,
   "id": "e0407353",
   "metadata": {
    "scrolled": false
   },
   "outputs": [
    {
     "name": "stdout",
     "output_type": "stream",
     "text": [
      "<class 'pandas.core.frame.DataFrame'>\n",
      "Int64Index: 11207 entries, 0 to 12410\n",
      "Data columns (total 27 columns):\n",
      " #   Column        Non-Null Count  Dtype \n",
      "---  ------        --------------  ----- \n",
      " 0   GENDER        11207 non-null  object\n",
      " 1   EDU_FATHER    11207 non-null  object\n",
      " 2   EDU_MOTHER    11207 non-null  object\n",
      " 3   OCC_FATHER    11207 non-null  object\n",
      " 4   OCC_MOTHER    11207 non-null  object\n",
      " 5   STRATUM       11207 non-null  int64 \n",
      " 6   SISBEN        11207 non-null  int64 \n",
      " 7   PEOPLE_HOUSE  11207 non-null  int64 \n",
      " 8   INTERNET      11207 non-null  int64 \n",
      " 9   TV            11207 non-null  int64 \n",
      " 10  COMPUTER      11207 non-null  int64 \n",
      " 11  WASHING_MCH   11207 non-null  int64 \n",
      " 12  MIC_OVEN      11207 non-null  int64 \n",
      " 13  CAR           11207 non-null  int64 \n",
      " 14  DVD           11207 non-null  int64 \n",
      " 15  FRESH         11207 non-null  int64 \n",
      " 16  PHONE         11207 non-null  int64 \n",
      " 17  MOBILE        11207 non-null  int64 \n",
      " 18  REVENUE       11207 non-null  object\n",
      " 19  JOB           11207 non-null  object\n",
      " 20  SCHOOL_NAT    11207 non-null  object\n",
      " 21  SCHOOL_TYPE   11207 non-null  object\n",
      " 22  MAT_S11       11207 non-null  int64 \n",
      " 23  CR_S11        11207 non-null  int64 \n",
      " 24  CC_S11        11207 non-null  int64 \n",
      " 25  BIO_S11       11207 non-null  int64 \n",
      " 26  ENG_S11       11207 non-null  int64 \n",
      "dtypes: int64(18), object(9)\n",
      "memory usage: 2.4+ MB\n"
     ]
    }
   ],
   "source": [
    "df.info()"
   ]
  },
  {
   "cell_type": "markdown",
   "id": "da605d87",
   "metadata": {},
   "source": [
    "Kolom 8 t/m 17 zijn direct omgezet naar integers, dus dat hoeft niet meer gedaan te worden "
   ]
  },
  {
   "cell_type": "code",
   "execution_count": 26,
   "id": "d2217e89",
   "metadata": {
    "scrolled": true
   },
   "outputs": [
    {
     "data": {
      "text/plain": [
       "0                                   10872\n",
       "Yes, less than 20 hours per week      212\n",
       "Yes, 20 hours or more per week        123\n",
       "Name: JOB, dtype: int64"
      ]
     },
     "execution_count": 26,
     "metadata": {},
     "output_type": "execute_result"
    }
   ],
   "source": [
    "df['JOB'].value_counts()"
   ]
  },
  {
   "cell_type": "code",
   "execution_count": 27,
   "id": "156ab241",
   "metadata": {
    "scrolled": true
   },
   "outputs": [
    {
     "data": {
      "text/html": [
       "<div>\n",
       "<style scoped>\n",
       "    .dataframe tbody tr th:only-of-type {\n",
       "        vertical-align: middle;\n",
       "    }\n",
       "\n",
       "    .dataframe tbody tr th {\n",
       "        vertical-align: top;\n",
       "    }\n",
       "\n",
       "    .dataframe thead th {\n",
       "        text-align: right;\n",
       "    }\n",
       "</style>\n",
       "<table border=\"1\" class=\"dataframe\">\n",
       "  <thead>\n",
       "    <tr style=\"text-align: right;\">\n",
       "      <th></th>\n",
       "      <th>STRATUM</th>\n",
       "      <th>SISBEN</th>\n",
       "      <th>PEOPLE_HOUSE</th>\n",
       "      <th>INTERNET</th>\n",
       "      <th>TV</th>\n",
       "      <th>COMPUTER</th>\n",
       "      <th>WASHING_MCH</th>\n",
       "      <th>MIC_OVEN</th>\n",
       "      <th>CAR</th>\n",
       "      <th>DVD</th>\n",
       "      <th>FRESH</th>\n",
       "      <th>PHONE</th>\n",
       "      <th>MOBILE</th>\n",
       "      <th>MAT_S11</th>\n",
       "      <th>CR_S11</th>\n",
       "      <th>CC_S11</th>\n",
       "      <th>BIO_S11</th>\n",
       "      <th>ENG_S11</th>\n",
       "    </tr>\n",
       "  </thead>\n",
       "  <tbody>\n",
       "    <tr>\n",
       "      <th>count</th>\n",
       "      <td>11207.000000</td>\n",
       "      <td>11207.000000</td>\n",
       "      <td>11207.000000</td>\n",
       "      <td>11207.000000</td>\n",
       "      <td>11207.000000</td>\n",
       "      <td>11207.000000</td>\n",
       "      <td>11207.000000</td>\n",
       "      <td>11207.000000</td>\n",
       "      <td>11207.000000</td>\n",
       "      <td>11207.000000</td>\n",
       "      <td>11207.000000</td>\n",
       "      <td>11207.000000</td>\n",
       "      <td>11207.000000</td>\n",
       "      <td>11207.000000</td>\n",
       "      <td>11207.000000</td>\n",
       "      <td>11207.000000</td>\n",
       "      <td>11207.000000</td>\n",
       "      <td>11207.000000</td>\n",
       "    </tr>\n",
       "    <tr>\n",
       "      <th>mean</th>\n",
       "      <td>2.656019</td>\n",
       "      <td>0.678415</td>\n",
       "      <td>4.349246</td>\n",
       "      <td>0.781744</td>\n",
       "      <td>0.854734</td>\n",
       "      <td>0.850986</td>\n",
       "      <td>0.600696</td>\n",
       "      <td>0.695637</td>\n",
       "      <td>0.454983</td>\n",
       "      <td>0.748282</td>\n",
       "      <td>0.970019</td>\n",
       "      <td>0.959311</td>\n",
       "      <td>0.705452</td>\n",
       "      <td>64.274561</td>\n",
       "      <td>60.796020</td>\n",
       "      <td>60.756045</td>\n",
       "      <td>63.866601</td>\n",
       "      <td>61.392969</td>\n",
       "    </tr>\n",
       "    <tr>\n",
       "      <th>std</th>\n",
       "      <td>1.149807</td>\n",
       "      <td>0.931771</td>\n",
       "      <td>1.357913</td>\n",
       "      <td>0.413081</td>\n",
       "      <td>0.352385</td>\n",
       "      <td>0.356118</td>\n",
       "      <td>0.489777</td>\n",
       "      <td>0.460158</td>\n",
       "      <td>0.497992</td>\n",
       "      <td>0.434019</td>\n",
       "      <td>0.170543</td>\n",
       "      <td>0.197577</td>\n",
       "      <td>0.455860</td>\n",
       "      <td>11.866690</td>\n",
       "      <td>10.067697</td>\n",
       "      <td>10.178555</td>\n",
       "      <td>11.122288</td>\n",
       "      <td>14.121017</td>\n",
       "    </tr>\n",
       "    <tr>\n",
       "      <th>min</th>\n",
       "      <td>1.000000</td>\n",
       "      <td>0.000000</td>\n",
       "      <td>1.000000</td>\n",
       "      <td>0.000000</td>\n",
       "      <td>0.000000</td>\n",
       "      <td>0.000000</td>\n",
       "      <td>0.000000</td>\n",
       "      <td>0.000000</td>\n",
       "      <td>0.000000</td>\n",
       "      <td>0.000000</td>\n",
       "      <td>0.000000</td>\n",
       "      <td>0.000000</td>\n",
       "      <td>0.000000</td>\n",
       "      <td>26.000000</td>\n",
       "      <td>26.000000</td>\n",
       "      <td>26.000000</td>\n",
       "      <td>20.000000</td>\n",
       "      <td>26.000000</td>\n",
       "    </tr>\n",
       "    <tr>\n",
       "      <th>25%</th>\n",
       "      <td>2.000000</td>\n",
       "      <td>0.000000</td>\n",
       "      <td>4.000000</td>\n",
       "      <td>1.000000</td>\n",
       "      <td>1.000000</td>\n",
       "      <td>1.000000</td>\n",
       "      <td>0.000000</td>\n",
       "      <td>0.000000</td>\n",
       "      <td>0.000000</td>\n",
       "      <td>0.000000</td>\n",
       "      <td>1.000000</td>\n",
       "      <td>1.000000</td>\n",
       "      <td>0.000000</td>\n",
       "      <td>56.000000</td>\n",
       "      <td>54.000000</td>\n",
       "      <td>54.000000</td>\n",
       "      <td>56.000000</td>\n",
       "      <td>50.000000</td>\n",
       "    </tr>\n",
       "    <tr>\n",
       "      <th>50%</th>\n",
       "      <td>3.000000</td>\n",
       "      <td>0.000000</td>\n",
       "      <td>4.000000</td>\n",
       "      <td>1.000000</td>\n",
       "      <td>1.000000</td>\n",
       "      <td>1.000000</td>\n",
       "      <td>1.000000</td>\n",
       "      <td>1.000000</td>\n",
       "      <td>0.000000</td>\n",
       "      <td>1.000000</td>\n",
       "      <td>1.000000</td>\n",
       "      <td>1.000000</td>\n",
       "      <td>1.000000</td>\n",
       "      <td>64.000000</td>\n",
       "      <td>61.000000</td>\n",
       "      <td>60.000000</td>\n",
       "      <td>63.000000</td>\n",
       "      <td>58.000000</td>\n",
       "    </tr>\n",
       "    <tr>\n",
       "      <th>75%</th>\n",
       "      <td>3.000000</td>\n",
       "      <td>1.000000</td>\n",
       "      <td>5.000000</td>\n",
       "      <td>1.000000</td>\n",
       "      <td>1.000000</td>\n",
       "      <td>1.000000</td>\n",
       "      <td>1.000000</td>\n",
       "      <td>1.000000</td>\n",
       "      <td>1.000000</td>\n",
       "      <td>1.000000</td>\n",
       "      <td>1.000000</td>\n",
       "      <td>1.000000</td>\n",
       "      <td>1.000000</td>\n",
       "      <td>72.000000</td>\n",
       "      <td>67.000000</td>\n",
       "      <td>67.000000</td>\n",
       "      <td>71.000000</td>\n",
       "      <td>71.000000</td>\n",
       "    </tr>\n",
       "    <tr>\n",
       "      <th>max</th>\n",
       "      <td>6.000000</td>\n",
       "      <td>3.000000</td>\n",
       "      <td>12.000000</td>\n",
       "      <td>1.000000</td>\n",
       "      <td>1.000000</td>\n",
       "      <td>1.000000</td>\n",
       "      <td>1.000000</td>\n",
       "      <td>1.000000</td>\n",
       "      <td>1.000000</td>\n",
       "      <td>1.000000</td>\n",
       "      <td>1.000000</td>\n",
       "      <td>1.000000</td>\n",
       "      <td>1.000000</td>\n",
       "      <td>100.000000</td>\n",
       "      <td>100.000000</td>\n",
       "      <td>100.000000</td>\n",
       "      <td>100.000000</td>\n",
       "      <td>100.000000</td>\n",
       "    </tr>\n",
       "  </tbody>\n",
       "</table>\n",
       "</div>"
      ],
      "text/plain": [
       "            STRATUM        SISBEN  PEOPLE_HOUSE      INTERNET            TV  \\\n",
       "count  11207.000000  11207.000000  11207.000000  11207.000000  11207.000000   \n",
       "mean       2.656019      0.678415      4.349246      0.781744      0.854734   \n",
       "std        1.149807      0.931771      1.357913      0.413081      0.352385   \n",
       "min        1.000000      0.000000      1.000000      0.000000      0.000000   \n",
       "25%        2.000000      0.000000      4.000000      1.000000      1.000000   \n",
       "50%        3.000000      0.000000      4.000000      1.000000      1.000000   \n",
       "75%        3.000000      1.000000      5.000000      1.000000      1.000000   \n",
       "max        6.000000      3.000000     12.000000      1.000000      1.000000   \n",
       "\n",
       "           COMPUTER   WASHING_MCH      MIC_OVEN           CAR           DVD  \\\n",
       "count  11207.000000  11207.000000  11207.000000  11207.000000  11207.000000   \n",
       "mean       0.850986      0.600696      0.695637      0.454983      0.748282   \n",
       "std        0.356118      0.489777      0.460158      0.497992      0.434019   \n",
       "min        0.000000      0.000000      0.000000      0.000000      0.000000   \n",
       "25%        1.000000      0.000000      0.000000      0.000000      0.000000   \n",
       "50%        1.000000      1.000000      1.000000      0.000000      1.000000   \n",
       "75%        1.000000      1.000000      1.000000      1.000000      1.000000   \n",
       "max        1.000000      1.000000      1.000000      1.000000      1.000000   \n",
       "\n",
       "              FRESH         PHONE        MOBILE       MAT_S11        CR_S11  \\\n",
       "count  11207.000000  11207.000000  11207.000000  11207.000000  11207.000000   \n",
       "mean       0.970019      0.959311      0.705452     64.274561     60.796020   \n",
       "std        0.170543      0.197577      0.455860     11.866690     10.067697   \n",
       "min        0.000000      0.000000      0.000000     26.000000     26.000000   \n",
       "25%        1.000000      1.000000      0.000000     56.000000     54.000000   \n",
       "50%        1.000000      1.000000      1.000000     64.000000     61.000000   \n",
       "75%        1.000000      1.000000      1.000000     72.000000     67.000000   \n",
       "max        1.000000      1.000000      1.000000    100.000000    100.000000   \n",
       "\n",
       "             CC_S11       BIO_S11       ENG_S11  \n",
       "count  11207.000000  11207.000000  11207.000000  \n",
       "mean      60.756045     63.866601     61.392969  \n",
       "std       10.178555     11.122288     14.121017  \n",
       "min       26.000000     20.000000     26.000000  \n",
       "25%       54.000000     56.000000     50.000000  \n",
       "50%       60.000000     63.000000     58.000000  \n",
       "75%       67.000000     71.000000     71.000000  \n",
       "max      100.000000    100.000000    100.000000  "
      ]
     },
     "execution_count": 27,
     "metadata": {},
     "output_type": "execute_result"
    }
   ],
   "source": [
    "df.describe()"
   ]
  },
  {
   "cell_type": "code",
   "execution_count": 28,
   "id": "50e77a6b",
   "metadata": {
    "scrolled": false
   },
   "outputs": [
    {
     "data": {
      "text/html": [
       "<div>\n",
       "<style scoped>\n",
       "    .dataframe tbody tr th:only-of-type {\n",
       "        vertical-align: middle;\n",
       "    }\n",
       "\n",
       "    .dataframe tbody tr th {\n",
       "        vertical-align: top;\n",
       "    }\n",
       "\n",
       "    .dataframe thead th {\n",
       "        text-align: right;\n",
       "    }\n",
       "</style>\n",
       "<table border=\"1\" class=\"dataframe\">\n",
       "  <thead>\n",
       "    <tr style=\"text-align: right;\">\n",
       "      <th></th>\n",
       "      <th>GENDER</th>\n",
       "      <th>EDU_FATHER</th>\n",
       "      <th>EDU_MOTHER</th>\n",
       "      <th>OCC_FATHER</th>\n",
       "      <th>OCC_MOTHER</th>\n",
       "      <th>STRATUM</th>\n",
       "      <th>SISBEN</th>\n",
       "      <th>PEOPLE_HOUSE</th>\n",
       "      <th>INTERNET</th>\n",
       "      <th>TV</th>\n",
       "      <th>...</th>\n",
       "      <th>MOBILE</th>\n",
       "      <th>REVENUE</th>\n",
       "      <th>JOB</th>\n",
       "      <th>SCHOOL_NAT</th>\n",
       "      <th>SCHOOL_TYPE</th>\n",
       "      <th>MAT_S11</th>\n",
       "      <th>CR_S11</th>\n",
       "      <th>CC_S11</th>\n",
       "      <th>BIO_S11</th>\n",
       "      <th>ENG_S11</th>\n",
       "    </tr>\n",
       "  </thead>\n",
       "  <tbody>\n",
       "    <tr>\n",
       "      <th>10695</th>\n",
       "      <td>F</td>\n",
       "      <td>Complete Secundary</td>\n",
       "      <td>Incomplete Secundary</td>\n",
       "      <td>Independent</td>\n",
       "      <td>Home</td>\n",
       "      <td>1</td>\n",
       "      <td>1</td>\n",
       "      <td>5</td>\n",
       "      <td>1</td>\n",
       "      <td>1</td>\n",
       "      <td>...</td>\n",
       "      <td>0</td>\n",
       "      <td>less than 1 LMMW</td>\n",
       "      <td>0</td>\n",
       "      <td>PUBLIC</td>\n",
       "      <td>ACADEMIC</td>\n",
       "      <td>43</td>\n",
       "      <td>46</td>\n",
       "      <td>56</td>\n",
       "      <td>60</td>\n",
       "      <td>26</td>\n",
       "    </tr>\n",
       "  </tbody>\n",
       "</table>\n",
       "<p>1 rows × 27 columns</p>\n",
       "</div>"
      ],
      "text/plain": [
       "      GENDER          EDU_FATHER            EDU_MOTHER   OCC_FATHER  \\\n",
       "10695      F  Complete Secundary  Incomplete Secundary  Independent   \n",
       "\n",
       "      OCC_MOTHER  STRATUM  SISBEN  PEOPLE_HOUSE  INTERNET  TV  ...  MOBILE  \\\n",
       "10695       Home        1       1             5         1   1  ...       0   \n",
       "\n",
       "                REVENUE  JOB  SCHOOL_NAT  SCHOOL_TYPE  MAT_S11  CR_S11  \\\n",
       "10695  less than 1 LMMW    0      PUBLIC     ACADEMIC       43      46   \n",
       "\n",
       "       CC_S11 BIO_S11 ENG_S11  \n",
       "10695      56      60      26  \n",
       "\n",
       "[1 rows x 27 columns]"
      ]
     },
     "execution_count": 28,
     "metadata": {},
     "output_type": "execute_result"
    }
   ],
   "source": [
    "df2 = df[df['ENG_S11'] == 26 ]\n",
    "df2.head()"
   ]
  },
  {
   "cell_type": "markdown",
   "id": "e5ac12eb",
   "metadata": {},
   "source": [
    "Het geslacht staat ook nog in 'F' en 'M', dit moet ook worden aangepast naar integers"
   ]
  },
  {
   "cell_type": "code",
   "execution_count": 29,
   "id": "205aef24",
   "metadata": {},
   "outputs": [],
   "source": [
    "df['GENDER'] = df['GENDER'].replace({'F': 0, 'M': 1}) \n",
    "df = df.rename(columns={\"GENDER\": \"GENDER_MALE\"}) #om duidelijk te maken dat de 1 voor MAlE staat "
   ]
  },
  {
   "cell_type": "code",
   "execution_count": 30,
   "id": "1e9e8a5c",
   "metadata": {
    "scrolled": false
   },
   "outputs": [
    {
     "data": {
      "text/html": [
       "<div>\n",
       "<style scoped>\n",
       "    .dataframe tbody tr th:only-of-type {\n",
       "        vertical-align: middle;\n",
       "    }\n",
       "\n",
       "    .dataframe tbody tr th {\n",
       "        vertical-align: top;\n",
       "    }\n",
       "\n",
       "    .dataframe thead th {\n",
       "        text-align: right;\n",
       "    }\n",
       "</style>\n",
       "<table border=\"1\" class=\"dataframe\">\n",
       "  <thead>\n",
       "    <tr style=\"text-align: right;\">\n",
       "      <th></th>\n",
       "      <th>GENDER_MALE</th>\n",
       "      <th>EDU_FATHER</th>\n",
       "      <th>EDU_MOTHER</th>\n",
       "      <th>OCC_FATHER</th>\n",
       "      <th>OCC_MOTHER</th>\n",
       "      <th>STRATUM</th>\n",
       "      <th>SISBEN</th>\n",
       "      <th>PEOPLE_HOUSE</th>\n",
       "      <th>INTERNET</th>\n",
       "      <th>TV</th>\n",
       "      <th>...</th>\n",
       "      <th>MOBILE</th>\n",
       "      <th>REVENUE</th>\n",
       "      <th>JOB</th>\n",
       "      <th>SCHOOL_NAT</th>\n",
       "      <th>SCHOOL_TYPE</th>\n",
       "      <th>MAT_S11</th>\n",
       "      <th>CR_S11</th>\n",
       "      <th>CC_S11</th>\n",
       "      <th>BIO_S11</th>\n",
       "      <th>ENG_S11</th>\n",
       "    </tr>\n",
       "  </thead>\n",
       "  <tbody>\n",
       "    <tr>\n",
       "      <th>0</th>\n",
       "      <td>0</td>\n",
       "      <td>Incomplete Professional Education</td>\n",
       "      <td>Complete technique or technology</td>\n",
       "      <td>Technical or professional level employee</td>\n",
       "      <td>Home</td>\n",
       "      <td>4</td>\n",
       "      <td>0</td>\n",
       "      <td>3</td>\n",
       "      <td>1</td>\n",
       "      <td>1</td>\n",
       "      <td>...</td>\n",
       "      <td>1</td>\n",
       "      <td>Between 1 and less than 2 LMMW</td>\n",
       "      <td>0</td>\n",
       "      <td>PRIVATE</td>\n",
       "      <td>ACADEMIC</td>\n",
       "      <td>71</td>\n",
       "      <td>81</td>\n",
       "      <td>61</td>\n",
       "      <td>86</td>\n",
       "      <td>82</td>\n",
       "    </tr>\n",
       "    <tr>\n",
       "      <th>1</th>\n",
       "      <td>0</td>\n",
       "      <td>Complete Secundary</td>\n",
       "      <td>Complete professional education</td>\n",
       "      <td>Entrepreneur</td>\n",
       "      <td>Independent professional</td>\n",
       "      <td>5</td>\n",
       "      <td>0</td>\n",
       "      <td>3</td>\n",
       "      <td>1</td>\n",
       "      <td>1</td>\n",
       "      <td>...</td>\n",
       "      <td>1</td>\n",
       "      <td>10 or more LMMW</td>\n",
       "      <td>0</td>\n",
       "      <td>PRIVATE</td>\n",
       "      <td>ACADEMIC</td>\n",
       "      <td>83</td>\n",
       "      <td>75</td>\n",
       "      <td>66</td>\n",
       "      <td>100</td>\n",
       "      <td>88</td>\n",
       "    </tr>\n",
       "    <tr>\n",
       "      <th>2</th>\n",
       "      <td>1</td>\n",
       "      <td>Not sure</td>\n",
       "      <td>Not sure</td>\n",
       "      <td>Independent</td>\n",
       "      <td>Home</td>\n",
       "      <td>2</td>\n",
       "      <td>2</td>\n",
       "      <td>5</td>\n",
       "      <td>0</td>\n",
       "      <td>0</td>\n",
       "      <td>...</td>\n",
       "      <td>0</td>\n",
       "      <td>Between 1 and less than 2 LMMW</td>\n",
       "      <td>Yes, 20 hours or more per week</td>\n",
       "      <td>PRIVATE</td>\n",
       "      <td>ACADEMIC</td>\n",
       "      <td>52</td>\n",
       "      <td>49</td>\n",
       "      <td>38</td>\n",
       "      <td>46</td>\n",
       "      <td>42</td>\n",
       "    </tr>\n",
       "    <tr>\n",
       "      <th>3</th>\n",
       "      <td>0</td>\n",
       "      <td>Not sure</td>\n",
       "      <td>Not sure</td>\n",
       "      <td>Other occupation</td>\n",
       "      <td>Independent</td>\n",
       "      <td>2</td>\n",
       "      <td>0</td>\n",
       "      <td>3</td>\n",
       "      <td>1</td>\n",
       "      <td>1</td>\n",
       "      <td>...</td>\n",
       "      <td>1</td>\n",
       "      <td>Between 2 and less than 3 LMMW</td>\n",
       "      <td>0</td>\n",
       "      <td>PRIVATE</td>\n",
       "      <td>ACADEMIC</td>\n",
       "      <td>56</td>\n",
       "      <td>55</td>\n",
       "      <td>51</td>\n",
       "      <td>64</td>\n",
       "      <td>73</td>\n",
       "    </tr>\n",
       "    <tr>\n",
       "      <th>4</th>\n",
       "      <td>1</td>\n",
       "      <td>Complete professional education</td>\n",
       "      <td>Complete professional education</td>\n",
       "      <td>Executive</td>\n",
       "      <td>Home</td>\n",
       "      <td>4</td>\n",
       "      <td>0</td>\n",
       "      <td>1</td>\n",
       "      <td>1</td>\n",
       "      <td>1</td>\n",
       "      <td>...</td>\n",
       "      <td>1</td>\n",
       "      <td>Between 7 and less than 10 LMMW</td>\n",
       "      <td>0</td>\n",
       "      <td>PRIVATE</td>\n",
       "      <td>ACADEMIC</td>\n",
       "      <td>80</td>\n",
       "      <td>65</td>\n",
       "      <td>76</td>\n",
       "      <td>85</td>\n",
       "      <td>92</td>\n",
       "    </tr>\n",
       "  </tbody>\n",
       "</table>\n",
       "<p>5 rows × 27 columns</p>\n",
       "</div>"
      ],
      "text/plain": [
       "   GENDER_MALE                         EDU_FATHER  \\\n",
       "0            0  Incomplete Professional Education   \n",
       "1            0                 Complete Secundary   \n",
       "2            1                           Not sure   \n",
       "3            0                           Not sure   \n",
       "4            1    Complete professional education   \n",
       "\n",
       "                         EDU_MOTHER                                OCC_FATHER  \\\n",
       "0  Complete technique or technology  Technical or professional level employee   \n",
       "1   Complete professional education                             Entrepreneur    \n",
       "2                          Not sure                               Independent   \n",
       "3                          Not sure                          Other occupation   \n",
       "4   Complete professional education                                 Executive   \n",
       "\n",
       "                 OCC_MOTHER  STRATUM  SISBEN  PEOPLE_HOUSE  INTERNET  TV  ...  \\\n",
       "0                      Home        4       0             3         1   1  ...   \n",
       "1  Independent professional        5       0             3         1   1  ...   \n",
       "2                      Home        2       2             5         0   0  ...   \n",
       "3               Independent        2       0             3         1   1  ...   \n",
       "4                      Home        4       0             1         1   1  ...   \n",
       "\n",
       "   MOBILE                          REVENUE                             JOB  \\\n",
       "0       1   Between 1 and less than 2 LMMW                               0   \n",
       "1       1                  10 or more LMMW                               0   \n",
       "2       0   Between 1 and less than 2 LMMW  Yes, 20 hours or more per week   \n",
       "3       1   Between 2 and less than 3 LMMW                               0   \n",
       "4       1  Between 7 and less than 10 LMMW                               0   \n",
       "\n",
       "   SCHOOL_NAT  SCHOOL_TYPE  MAT_S11  CR_S11  CC_S11 BIO_S11 ENG_S11  \n",
       "0     PRIVATE     ACADEMIC       71      81      61      86      82  \n",
       "1     PRIVATE     ACADEMIC       83      75      66     100      88  \n",
       "2     PRIVATE     ACADEMIC       52      49      38      46      42  \n",
       "3     PRIVATE     ACADEMIC       56      55      51      64      73  \n",
       "4     PRIVATE     ACADEMIC       80      65      76      85      92  \n",
       "\n",
       "[5 rows x 27 columns]"
      ]
     },
     "execution_count": 30,
     "metadata": {},
     "output_type": "execute_result"
    }
   ],
   "source": [
    "df.head()"
   ]
  },
  {
   "cell_type": "code",
   "execution_count": 31,
   "id": "d94d636b",
   "metadata": {},
   "outputs": [],
   "source": [
    "df['SCHOOL_NAT'] = df['SCHOOL_NAT'].replace({'PUBLIC': 0, 'PRIVATE': 1}) \n",
    "df = df.rename(columns={\"SCHOOL_NAT\": \"PRIVATE_SCHOOL\"}) #om duidelijk te maken dat de 1 voor PRIVATE staat "
   ]
  },
  {
   "cell_type": "code",
   "execution_count": 32,
   "id": "384c0000",
   "metadata": {},
   "outputs": [
    {
     "data": {
      "text/html": [
       "<div>\n",
       "<style scoped>\n",
       "    .dataframe tbody tr th:only-of-type {\n",
       "        vertical-align: middle;\n",
       "    }\n",
       "\n",
       "    .dataframe tbody tr th {\n",
       "        vertical-align: top;\n",
       "    }\n",
       "\n",
       "    .dataframe thead th {\n",
       "        text-align: right;\n",
       "    }\n",
       "</style>\n",
       "<table border=\"1\" class=\"dataframe\">\n",
       "  <thead>\n",
       "    <tr style=\"text-align: right;\">\n",
       "      <th></th>\n",
       "      <th>GENDER_MALE</th>\n",
       "      <th>EDU_FATHER</th>\n",
       "      <th>EDU_MOTHER</th>\n",
       "      <th>OCC_FATHER</th>\n",
       "      <th>OCC_MOTHER</th>\n",
       "      <th>STRATUM</th>\n",
       "      <th>SISBEN</th>\n",
       "      <th>PEOPLE_HOUSE</th>\n",
       "      <th>INTERNET</th>\n",
       "      <th>TV</th>\n",
       "      <th>...</th>\n",
       "      <th>MOBILE</th>\n",
       "      <th>REVENUE</th>\n",
       "      <th>JOB</th>\n",
       "      <th>PRIVATE_SCHOOL</th>\n",
       "      <th>SCHOOL_TYPE</th>\n",
       "      <th>MAT_S11</th>\n",
       "      <th>CR_S11</th>\n",
       "      <th>CC_S11</th>\n",
       "      <th>BIO_S11</th>\n",
       "      <th>ENG_S11</th>\n",
       "    </tr>\n",
       "  </thead>\n",
       "  <tbody>\n",
       "    <tr>\n",
       "      <th>0</th>\n",
       "      <td>0</td>\n",
       "      <td>Incomplete Professional Education</td>\n",
       "      <td>Complete technique or technology</td>\n",
       "      <td>Technical or professional level employee</td>\n",
       "      <td>Home</td>\n",
       "      <td>4</td>\n",
       "      <td>0</td>\n",
       "      <td>3</td>\n",
       "      <td>1</td>\n",
       "      <td>1</td>\n",
       "      <td>...</td>\n",
       "      <td>1</td>\n",
       "      <td>Between 1 and less than 2 LMMW</td>\n",
       "      <td>0</td>\n",
       "      <td>1</td>\n",
       "      <td>ACADEMIC</td>\n",
       "      <td>71</td>\n",
       "      <td>81</td>\n",
       "      <td>61</td>\n",
       "      <td>86</td>\n",
       "      <td>82</td>\n",
       "    </tr>\n",
       "    <tr>\n",
       "      <th>1</th>\n",
       "      <td>0</td>\n",
       "      <td>Complete Secundary</td>\n",
       "      <td>Complete professional education</td>\n",
       "      <td>Entrepreneur</td>\n",
       "      <td>Independent professional</td>\n",
       "      <td>5</td>\n",
       "      <td>0</td>\n",
       "      <td>3</td>\n",
       "      <td>1</td>\n",
       "      <td>1</td>\n",
       "      <td>...</td>\n",
       "      <td>1</td>\n",
       "      <td>10 or more LMMW</td>\n",
       "      <td>0</td>\n",
       "      <td>1</td>\n",
       "      <td>ACADEMIC</td>\n",
       "      <td>83</td>\n",
       "      <td>75</td>\n",
       "      <td>66</td>\n",
       "      <td>100</td>\n",
       "      <td>88</td>\n",
       "    </tr>\n",
       "    <tr>\n",
       "      <th>2</th>\n",
       "      <td>1</td>\n",
       "      <td>Not sure</td>\n",
       "      <td>Not sure</td>\n",
       "      <td>Independent</td>\n",
       "      <td>Home</td>\n",
       "      <td>2</td>\n",
       "      <td>2</td>\n",
       "      <td>5</td>\n",
       "      <td>0</td>\n",
       "      <td>0</td>\n",
       "      <td>...</td>\n",
       "      <td>0</td>\n",
       "      <td>Between 1 and less than 2 LMMW</td>\n",
       "      <td>Yes, 20 hours or more per week</td>\n",
       "      <td>1</td>\n",
       "      <td>ACADEMIC</td>\n",
       "      <td>52</td>\n",
       "      <td>49</td>\n",
       "      <td>38</td>\n",
       "      <td>46</td>\n",
       "      <td>42</td>\n",
       "    </tr>\n",
       "    <tr>\n",
       "      <th>3</th>\n",
       "      <td>0</td>\n",
       "      <td>Not sure</td>\n",
       "      <td>Not sure</td>\n",
       "      <td>Other occupation</td>\n",
       "      <td>Independent</td>\n",
       "      <td>2</td>\n",
       "      <td>0</td>\n",
       "      <td>3</td>\n",
       "      <td>1</td>\n",
       "      <td>1</td>\n",
       "      <td>...</td>\n",
       "      <td>1</td>\n",
       "      <td>Between 2 and less than 3 LMMW</td>\n",
       "      <td>0</td>\n",
       "      <td>1</td>\n",
       "      <td>ACADEMIC</td>\n",
       "      <td>56</td>\n",
       "      <td>55</td>\n",
       "      <td>51</td>\n",
       "      <td>64</td>\n",
       "      <td>73</td>\n",
       "    </tr>\n",
       "    <tr>\n",
       "      <th>4</th>\n",
       "      <td>1</td>\n",
       "      <td>Complete professional education</td>\n",
       "      <td>Complete professional education</td>\n",
       "      <td>Executive</td>\n",
       "      <td>Home</td>\n",
       "      <td>4</td>\n",
       "      <td>0</td>\n",
       "      <td>1</td>\n",
       "      <td>1</td>\n",
       "      <td>1</td>\n",
       "      <td>...</td>\n",
       "      <td>1</td>\n",
       "      <td>Between 7 and less than 10 LMMW</td>\n",
       "      <td>0</td>\n",
       "      <td>1</td>\n",
       "      <td>ACADEMIC</td>\n",
       "      <td>80</td>\n",
       "      <td>65</td>\n",
       "      <td>76</td>\n",
       "      <td>85</td>\n",
       "      <td>92</td>\n",
       "    </tr>\n",
       "  </tbody>\n",
       "</table>\n",
       "<p>5 rows × 27 columns</p>\n",
       "</div>"
      ],
      "text/plain": [
       "   GENDER_MALE                         EDU_FATHER  \\\n",
       "0            0  Incomplete Professional Education   \n",
       "1            0                 Complete Secundary   \n",
       "2            1                           Not sure   \n",
       "3            0                           Not sure   \n",
       "4            1    Complete professional education   \n",
       "\n",
       "                         EDU_MOTHER                                OCC_FATHER  \\\n",
       "0  Complete technique or technology  Technical or professional level employee   \n",
       "1   Complete professional education                             Entrepreneur    \n",
       "2                          Not sure                               Independent   \n",
       "3                          Not sure                          Other occupation   \n",
       "4   Complete professional education                                 Executive   \n",
       "\n",
       "                 OCC_MOTHER  STRATUM  SISBEN  PEOPLE_HOUSE  INTERNET  TV  ...  \\\n",
       "0                      Home        4       0             3         1   1  ...   \n",
       "1  Independent professional        5       0             3         1   1  ...   \n",
       "2                      Home        2       2             5         0   0  ...   \n",
       "3               Independent        2       0             3         1   1  ...   \n",
       "4                      Home        4       0             1         1   1  ...   \n",
       "\n",
       "   MOBILE                          REVENUE                             JOB  \\\n",
       "0       1   Between 1 and less than 2 LMMW                               0   \n",
       "1       1                  10 or more LMMW                               0   \n",
       "2       0   Between 1 and less than 2 LMMW  Yes, 20 hours or more per week   \n",
       "3       1   Between 2 and less than 3 LMMW                               0   \n",
       "4       1  Between 7 and less than 10 LMMW                               0   \n",
       "\n",
       "   PRIVATE_SCHOOL  SCHOOL_TYPE  MAT_S11  CR_S11  CC_S11 BIO_S11 ENG_S11  \n",
       "0               1     ACADEMIC       71      81      61      86      82  \n",
       "1               1     ACADEMIC       83      75      66     100      88  \n",
       "2               1     ACADEMIC       52      49      38      46      42  \n",
       "3               1     ACADEMIC       56      55      51      64      73  \n",
       "4               1     ACADEMIC       80      65      76      85      92  \n",
       "\n",
       "[5 rows x 27 columns]"
      ]
     },
     "execution_count": 32,
     "metadata": {},
     "output_type": "execute_result"
    }
   ],
   "source": [
    "df.head()"
   ]
  },
  {
   "cell_type": "markdown",
   "id": "72563ad0",
   "metadata": {},
   "source": [
    "## Data Visualisatie "
   ]
  },
  {
   "cell_type": "markdown",
   "id": "335e6cbc",
   "metadata": {},
   "source": [
    "Ik vroeg me af of studenten die thuis geen internet hebben slechter zijn in Engels, omdat je dan geen toegang hebt tot bijvoorbeeld Engelse video's of artikelen. "
   ]
  },
  {
   "cell_type": "code",
   "execution_count": 33,
   "id": "7c6cf4bf",
   "metadata": {
    "scrolled": true
   },
   "outputs": [
    {
     "data": {
      "text/plain": [
       "<AxesSubplot:xlabel='INTERNET', ylabel='ENG_S11'>"
      ]
     },
     "execution_count": 33,
     "metadata": {},
     "output_type": "execute_result"
    },
    {
     "data": {
      "image/png": "[encoded data removed]",
      "text/plain": [
       "<Figure size 432x288 with 1 Axes>"
      ]
     },
     "metadata": {
      "needs_background": "light"
     },
     "output_type": "display_data"
    }
   ],
   "source": [
    "sns.boxplot(x='INTERNET', y= 'ENG_S11', data=df)"
   ]
  },
  {
   "cell_type": "markdown",
   "id": "4da7a181",
   "metadata": {},
   "source": [
    "Studenten met internet scoren inderdaad hoger dan studenten zonder internet thuis."
   ]
  },
  {
   "cell_type": "markdown",
   "id": "24c1ced2",
   "metadata": {},
   "source": [
    "Ik vroeg me ook af of studenten die naar 'private school' gaan beter zijn in Engels, omdat deze scholen vaak beter onderwijs aanbieden. "
   ]
  },
  {
   "cell_type": "code",
   "execution_count": 34,
   "id": "ba47513d",
   "metadata": {
    "scrolled": false
   },
   "outputs": [
    {
     "data": {
      "text/plain": [
       "<AxesSubplot:xlabel='PRIVATE_SCHOOL', ylabel='ENG_S11'>"
      ]
     },
     "execution_count": 34,
     "metadata": {},
     "output_type": "execute_result"
    },
    {
     "data": {
      "image/png": "[encoded data removed]",
      "text/plain": [
       "<Figure size 432x288 with 1 Axes>"
      ]
     },
     "metadata": {
      "needs_background": "light"
     },
     "output_type": "display_data"
    }
   ],
   "source": [
    "sns.boxplot(x='PRIVATE_SCHOOL', y= 'ENG_S11', data=df)"
   ]
  },
  {
   "cell_type": "markdown",
   "id": "01fae720",
   "metadata": {},
   "source": [
    "Studenten die naar 'private school' gaan scoren hoger op het Engels examen"
   ]
  },
  {
   "cell_type": "markdown",
   "id": "0459840a",
   "metadata": {},
   "source": [
    "Uit de vorige grafieken is te zien dat Internet en je type school invloed hebben op het Engels cijfer van de student. Nu gaan we bekijken of de financiele situatie van de ouders invloed heeft op de schoolcijfers van het kind. Dit kan met de kolom 'STRATUM'. In deze kolom worden namelijk de huizen van de ouders beoordeeld."
   ]
  },
  {
   "cell_type": "code",
   "execution_count": 35,
   "id": "df9caecf",
   "metadata": {},
   "outputs": [
    {
     "data": {
      "text/plain": [
       "<AxesSubplot:xlabel='STRATUM', ylabel='ENG_S11'>"
      ]
     },
     "execution_count": 35,
     "metadata": {},
     "output_type": "execute_result"
    },
    {
     "data": {
      "image/png": "[encoded data removed]",
      "text/plain": [
       "<Figure size 432x288 with 1 Axes>"
      ]
     },
     "metadata": {
      "needs_background": "light"
     },
     "output_type": "display_data"
    }
   ],
   "source": [
    "sns.violinplot(x='STRATUM', y= 'ENG_S11', data=df)"
   ]
  },
  {
   "cell_type": "markdown",
   "id": "51e20707",
   "metadata": {},
   "source": [
    "Je ziet hier een duidelijk verband. Studenten scoren gemiddeld steeds hoger als ze in een duurder huis wonen"
   ]
  },
  {
   "cell_type": "markdown",
   "id": "be062942",
   "metadata": {},
   "source": [
    "Nu gaan we kijken of het salaris van de student zelf ook invloed heeft op zijn of haar scores"
   ]
  },
  {
   "cell_type": "code",
   "execution_count": 36,
   "id": "4b6f41dc",
   "metadata": {},
   "outputs": [
    {
     "data": {
      "text/plain": [
       "<AxesSubplot:xlabel='ENG_S11', ylabel='REVENUE'>"
      ]
     },
     "execution_count": 36,
     "metadata": {},
     "output_type": "execute_result"
    },
    {
     "data": {
      "image/png": "[encoded data removed]",
      "text/plain": [
       "<Figure size 432x288 with 1 Axes>"
      ]
     },
     "metadata": {
      "needs_background": "light"
     },
     "output_type": "display_data"
    }
   ],
   "source": [
    "sns.boxplot(x='ENG_S11', y= 'REVENUE', data=df)"
   ]
  },
  {
   "cell_type": "code",
   "execution_count": 37,
   "id": "0e964059",
   "metadata": {},
   "outputs": [
    {
     "data": {
      "text/plain": [
       "<AxesSubplot:xlabel='ENG_S11', ylabel='SCHOOL_TYPE'>"
      ]
     },
     "execution_count": 37,
     "metadata": {},
     "output_type": "execute_result"
    },
    {
     "data": {
      "image/png": "[encoded data removed]",
      "text/plain": [
       "<Figure size 432x288 with 1 Axes>"
      ]
     },
     "metadata": {
      "needs_background": "light"
     },
     "output_type": "display_data"
    }
   ],
   "source": [
    "sns.boxplot(x='ENG_S11', y= 'SCHOOL_TYPE', data=df)"
   ]
  },
  {
   "cell_type": "markdown",
   "id": "16b08d12",
   "metadata": {},
   "source": [
    "## Variabelen selecteren"
   ]
  },
  {
   "cell_type": "markdown",
   "id": "e0c03405",
   "metadata": {},
   "source": [
    "Door te kijken naar de correlaties tussen 'ENG_S11' en de andere variabelen, kunnen we beslissen welke variabelen we gaan gebruiken."
   ]
  },
  {
   "cell_type": "code",
   "execution_count": 38,
   "id": "e4668675",
   "metadata": {
    "scrolled": true
   },
   "outputs": [
    {
     "data": {
      "text/plain": [
       "ENG_S11           1.000000\n",
       "MAT_S11           0.594398\n",
       "BIO_S11           0.592872\n",
       "CR_S11            0.588899\n",
       "CC_S11            0.555467\n",
       "STRATUM           0.473916\n",
       "PRIVATE_SCHOOL    0.380322\n",
       "CAR               0.272318\n",
       "MOBILE            0.259543\n",
       "INTERNET          0.232647\n",
       "MIC_OVEN          0.218957\n",
       "WASHING_MCH       0.182879\n",
       "TV                0.175995\n",
       "COMPUTER          0.175703\n",
       "DVD               0.135682\n",
       "FRESH             0.075223\n",
       "PHONE             0.042930\n",
       "GENDER_MALE       0.013006\n",
       "PEOPLE_HOUSE     -0.103567\n",
       "SISBEN           -0.277433\n",
       "Name: ENG_S11, dtype: float64"
      ]
     },
     "execution_count": 38,
     "metadata": {},
     "output_type": "execute_result"
    }
   ],
   "source": [
    "corr = df.corr() \n",
    "corr[\"ENG_S11\"].sort_values(ascending=False)"
   ]
  },
  {
   "cell_type": "markdown",
   "id": "4b8d6d61",
   "metadata": {},
   "source": [
    "Alle variabelen met een correlatie onder de 0.25 worden niet meegenomen in het model"
   ]
  },
  {
   "cell_type": "markdown",
   "id": "df999c2a",
   "metadata": {},
   "source": [
    "'Revenue' heeft een grote invloed op het cijfer van de student. Om dit te kunnen gebruiken in het model moet de data omgezet worden in dummies "
   ]
  },
  {
   "cell_type": "code",
   "execution_count": 39,
   "id": "a5db2ec1",
   "metadata": {},
   "outputs": [],
   "source": [
    "df_select=df.drop(columns=[ 'WASHING_MCH',\n",
    "                    'TV', 'COMPUTER', 'DVD','FRESH', 'PHONE', 'GENDER_MALE', 'PEOPLE_HOUSE', \n",
    "                    'EDU_FATHER', 'EDU_MOTHER', 'OCC_FATHER', 'OCC_MOTHER', \n",
    "                    'SCHOOL_TYPE','MIC_OVEN', 'INTERNET'])\n",
    "#df_select wordt gebruikt zodat de originele dataframe niet overschreven wordt en later nog gebruikt kan worden"
   ]
  },
  {
   "cell_type": "code",
   "execution_count": 40,
   "id": "09060700",
   "metadata": {},
   "outputs": [
    {
     "name": "stdout",
     "output_type": "stream",
     "text": [
      "<class 'pandas.core.frame.DataFrame'>\n",
      "Int64Index: 11207 entries, 0 to 12410\n",
      "Data columns (total 20 columns):\n",
      " #   Column                                   Non-Null Count  Dtype\n",
      "---  ------                                   --------------  -----\n",
      " 0   STRATUM                                  11207 non-null  int64\n",
      " 1   SISBEN                                   11207 non-null  int64\n",
      " 2   CAR                                      11207 non-null  int64\n",
      " 3   MOBILE                                   11207 non-null  int64\n",
      " 4   PRIVATE_SCHOOL                           11207 non-null  int64\n",
      " 5   MAT_S11                                  11207 non-null  int64\n",
      " 6   CR_S11                                   11207 non-null  int64\n",
      " 7   CC_S11                                   11207 non-null  int64\n",
      " 8   BIO_S11                                  11207 non-null  int64\n",
      " 9   ENG_S11                                  11207 non-null  int64\n",
      " 10  REVENUE_10 or more LMMW                  11207 non-null  uint8\n",
      " 11  REVENUE_Between 1 and less than 2 LMMW   11207 non-null  uint8\n",
      " 12  REVENUE_Between 2 and less than 3 LMMW   11207 non-null  uint8\n",
      " 13  REVENUE_Between 3 and less than 5 LMMW   11207 non-null  uint8\n",
      " 14  REVENUE_Between 5 and less than 7 LMMW   11207 non-null  uint8\n",
      " 15  REVENUE_Between 7 and less than 10 LMMW  11207 non-null  uint8\n",
      " 16  REVENUE_less than 1 LMMW                 11207 non-null  uint8\n",
      " 17  JOB_0                                    11207 non-null  uint8\n",
      " 18  JOB_Yes, 20 hours or more per week       11207 non-null  uint8\n",
      " 19  JOB_Yes, less than 20 hours per week     11207 non-null  uint8\n",
      "dtypes: int64(10), uint8(10)\n",
      "memory usage: 1.3 MB\n"
     ]
    }
   ],
   "source": [
    "df_select = pd.get_dummies(df_select)\n",
    "df_select.info()"
   ]
  },
  {
   "cell_type": "markdown",
   "id": "54ddaa70",
   "metadata": {},
   "source": [
    "## Het model fitten"
   ]
  },
  {
   "cell_type": "markdown",
   "id": "b009711e",
   "metadata": {},
   "source": [
    "Eerst maken we de X en Y variabelen "
   ]
  },
  {
   "cell_type": "code",
   "execution_count": 41,
   "id": "39b37c1c",
   "metadata": {},
   "outputs": [],
   "source": [
    "X = df_select.loc[:, ~df_select.columns.isin(['ENG_S11'])] \n",
    "y = df_select['ENG_S11'] "
   ]
  },
  {
   "cell_type": "markdown",
   "id": "d05275b9",
   "metadata": {},
   "source": [
    "De data wordt opgesplitst in 70/30, 70% training data en 30% test data."
   ]
  },
  {
   "cell_type": "code",
   "execution_count": 42,
   "id": "ceed435d",
   "metadata": {},
   "outputs": [
    {
     "data": {
      "text/html": [
       "<div>\n",
       "<style scoped>\n",
       "    .dataframe tbody tr th:only-of-type {\n",
       "        vertical-align: middle;\n",
       "    }\n",
       "\n",
       "    .dataframe tbody tr th {\n",
       "        vertical-align: top;\n",
       "    }\n",
       "\n",
       "    .dataframe thead th {\n",
       "        text-align: right;\n",
       "    }\n",
       "</style>\n",
       "<table border=\"1\" class=\"dataframe\">\n",
       "  <thead>\n",
       "    <tr style=\"text-align: right;\">\n",
       "      <th></th>\n",
       "      <th>STRATUM</th>\n",
       "      <th>SISBEN</th>\n",
       "      <th>CAR</th>\n",
       "      <th>MOBILE</th>\n",
       "      <th>PRIVATE_SCHOOL</th>\n",
       "      <th>MAT_S11</th>\n",
       "      <th>CR_S11</th>\n",
       "      <th>CC_S11</th>\n",
       "      <th>BIO_S11</th>\n",
       "      <th>REVENUE_10 or more LMMW</th>\n",
       "      <th>REVENUE_Between 1 and less than 2 LMMW</th>\n",
       "      <th>REVENUE_Between 2 and less than 3 LMMW</th>\n",
       "      <th>REVENUE_Between 3 and less than 5 LMMW</th>\n",
       "      <th>REVENUE_Between 5 and less than 7 LMMW</th>\n",
       "      <th>REVENUE_Between 7 and less than 10 LMMW</th>\n",
       "      <th>REVENUE_less than 1 LMMW</th>\n",
       "      <th>JOB_0</th>\n",
       "      <th>JOB_Yes, 20 hours or more per week</th>\n",
       "      <th>JOB_Yes, less than 20 hours per week</th>\n",
       "    </tr>\n",
       "  </thead>\n",
       "  <tbody>\n",
       "    <tr>\n",
       "      <th>8499</th>\n",
       "      <td>2</td>\n",
       "      <td>0</td>\n",
       "      <td>1</td>\n",
       "      <td>1</td>\n",
       "      <td>1</td>\n",
       "      <td>71</td>\n",
       "      <td>60</td>\n",
       "      <td>60</td>\n",
       "      <td>58</td>\n",
       "      <td>0</td>\n",
       "      <td>0</td>\n",
       "      <td>0</td>\n",
       "      <td>1</td>\n",
       "      <td>0</td>\n",
       "      <td>0</td>\n",
       "      <td>0</td>\n",
       "      <td>1</td>\n",
       "      <td>0</td>\n",
       "      <td>0</td>\n",
       "    </tr>\n",
       "    <tr>\n",
       "      <th>6097</th>\n",
       "      <td>2</td>\n",
       "      <td>1</td>\n",
       "      <td>1</td>\n",
       "      <td>0</td>\n",
       "      <td>0</td>\n",
       "      <td>63</td>\n",
       "      <td>54</td>\n",
       "      <td>68</td>\n",
       "      <td>62</td>\n",
       "      <td>0</td>\n",
       "      <td>1</td>\n",
       "      <td>0</td>\n",
       "      <td>0</td>\n",
       "      <td>0</td>\n",
       "      <td>0</td>\n",
       "      <td>0</td>\n",
       "      <td>1</td>\n",
       "      <td>0</td>\n",
       "      <td>0</td>\n",
       "    </tr>\n",
       "    <tr>\n",
       "      <th>8679</th>\n",
       "      <td>2</td>\n",
       "      <td>0</td>\n",
       "      <td>0</td>\n",
       "      <td>0</td>\n",
       "      <td>0</td>\n",
       "      <td>40</td>\n",
       "      <td>57</td>\n",
       "      <td>60</td>\n",
       "      <td>52</td>\n",
       "      <td>0</td>\n",
       "      <td>0</td>\n",
       "      <td>1</td>\n",
       "      <td>0</td>\n",
       "      <td>0</td>\n",
       "      <td>0</td>\n",
       "      <td>0</td>\n",
       "      <td>1</td>\n",
       "      <td>0</td>\n",
       "      <td>0</td>\n",
       "    </tr>\n",
       "    <tr>\n",
       "      <th>8251</th>\n",
       "      <td>3</td>\n",
       "      <td>0</td>\n",
       "      <td>0</td>\n",
       "      <td>1</td>\n",
       "      <td>1</td>\n",
       "      <td>48</td>\n",
       "      <td>95</td>\n",
       "      <td>77</td>\n",
       "      <td>61</td>\n",
       "      <td>0</td>\n",
       "      <td>0</td>\n",
       "      <td>0</td>\n",
       "      <td>0</td>\n",
       "      <td>1</td>\n",
       "      <td>0</td>\n",
       "      <td>0</td>\n",
       "      <td>1</td>\n",
       "      <td>0</td>\n",
       "      <td>0</td>\n",
       "    </tr>\n",
       "    <tr>\n",
       "      <th>11157</th>\n",
       "      <td>6</td>\n",
       "      <td>0</td>\n",
       "      <td>1</td>\n",
       "      <td>1</td>\n",
       "      <td>1</td>\n",
       "      <td>96</td>\n",
       "      <td>69</td>\n",
       "      <td>86</td>\n",
       "      <td>87</td>\n",
       "      <td>1</td>\n",
       "      <td>0</td>\n",
       "      <td>0</td>\n",
       "      <td>0</td>\n",
       "      <td>0</td>\n",
       "      <td>0</td>\n",
       "      <td>0</td>\n",
       "      <td>1</td>\n",
       "      <td>0</td>\n",
       "      <td>0</td>\n",
       "    </tr>\n",
       "  </tbody>\n",
       "</table>\n",
       "</div>"
      ],
      "text/plain": [
       "       STRATUM  SISBEN  CAR  MOBILE  PRIVATE_SCHOOL  MAT_S11  CR_S11  CC_S11  \\\n",
       "8499         2       0    1       1               1       71      60      60   \n",
       "6097         2       1    1       0               0       63      54      68   \n",
       "8679         2       0    0       0               0       40      57      60   \n",
       "8251         3       0    0       1               1       48      95      77   \n",
       "11157        6       0    1       1               1       96      69      86   \n",
       "\n",
       "       BIO_S11  REVENUE_10 or more LMMW  \\\n",
       "8499        58                        0   \n",
       "6097        62                        0   \n",
       "8679        52                        0   \n",
       "8251        61                        0   \n",
       "11157       87                        1   \n",
       "\n",
       "       REVENUE_Between 1 and less than 2 LMMW  \\\n",
       "8499                                        0   \n",
       "6097                                        1   \n",
       "8679                                        0   \n",
       "8251                                        0   \n",
       "11157                                       0   \n",
       "\n",
       "       REVENUE_Between 2 and less than 3 LMMW  \\\n",
       "8499                                        0   \n",
       "6097                                        0   \n",
       "8679                                        1   \n",
       "8251                                        0   \n",
       "11157                                       0   \n",
       "\n",
       "       REVENUE_Between 3 and less than 5 LMMW  \\\n",
       "8499                                        1   \n",
       "6097                                        0   \n",
       "8679                                        0   \n",
       "8251                                        0   \n",
       "11157                                       0   \n",
       "\n",
       "       REVENUE_Between 5 and less than 7 LMMW  \\\n",
       "8499                                        0   \n",
       "6097                                        0   \n",
       "8679                                        0   \n",
       "8251                                        1   \n",
       "11157                                       0   \n",
       "\n",
       "       REVENUE_Between 7 and less than 10 LMMW  REVENUE_less than 1 LMMW  \\\n",
       "8499                                         0                         0   \n",
       "6097                                         0                         0   \n",
       "8679                                         0                         0   \n",
       "8251                                         0                         0   \n",
       "11157                                        0                         0   \n",
       "\n",
       "       JOB_0  JOB_Yes, 20 hours or more per week  \\\n",
       "8499       1                                   0   \n",
       "6097       1                                   0   \n",
       "8679       1                                   0   \n",
       "8251       1                                   0   \n",
       "11157      1                                   0   \n",
       "\n",
       "       JOB_Yes, less than 20 hours per week  \n",
       "8499                                      0  \n",
       "6097                                      0  \n",
       "8679                                      0  \n",
       "8251                                      0  \n",
       "11157                                     0  "
      ]
     },
     "execution_count": 42,
     "metadata": {},
     "output_type": "execute_result"
    }
   ],
   "source": [
    "X_train, X_test, y_train, y_test = train_test_split(X, y, test_size = 0.3, random_state = 56)\n",
    "X_train.head()"
   ]
  },
  {
   "cell_type": "code",
   "execution_count": 43,
   "id": "ede8e11c",
   "metadata": {},
   "outputs": [],
   "source": [
    "lm = LinearRegression()\n",
    "lm = lm.fit(X_train, y_train)"
   ]
  },
  {
   "cell_type": "code",
   "execution_count": 52,
   "id": "da459f5b",
   "metadata": {},
   "outputs": [
    {
     "data": {
      "text/plain": [
       "3.7468870046846376"
      ]
     },
     "execution_count": 52,
     "metadata": {},
     "output_type": "execute_result"
    }
   ],
   "source": [
    "lm.intercept_"
   ]
  },
  {
   "cell_type": "code",
   "execution_count": 53,
   "id": "98b5ee72",
   "metadata": {
    "scrolled": false
   },
   "outputs": [
    {
     "data": {
      "text/html": [
       "<div>\n",
       "<style scoped>\n",
       "    .dataframe tbody tr th:only-of-type {\n",
       "        vertical-align: middle;\n",
       "    }\n",
       "\n",
       "    .dataframe tbody tr th {\n",
       "        vertical-align: top;\n",
       "    }\n",
       "\n",
       "    .dataframe thead th {\n",
       "        text-align: right;\n",
       "    }\n",
       "</style>\n",
       "<table border=\"1\" class=\"dataframe\">\n",
       "  <thead>\n",
       "    <tr style=\"text-align: right;\">\n",
       "      <th></th>\n",
       "      <th>0</th>\n",
       "    </tr>\n",
       "  </thead>\n",
       "  <tbody>\n",
       "    <tr>\n",
       "      <th>1.816999</th>\n",
       "      <td>STRATUM</td>\n",
       "    </tr>\n",
       "    <tr>\n",
       "      <th>-0.301531</th>\n",
       "      <td>SISBEN</td>\n",
       "    </tr>\n",
       "    <tr>\n",
       "      <th>0.518292</th>\n",
       "      <td>CAR</td>\n",
       "    </tr>\n",
       "    <tr>\n",
       "      <th>0.624561</th>\n",
       "      <td>MOBILE</td>\n",
       "    </tr>\n",
       "    <tr>\n",
       "      <th>2.829848</th>\n",
       "      <td>PRIVATE_SCHOOL</td>\n",
       "    </tr>\n",
       "    <tr>\n",
       "      <th>0.187937</th>\n",
       "      <td>MAT_S11</td>\n",
       "    </tr>\n",
       "    <tr>\n",
       "      <th>0.281899</th>\n",
       "      <td>CR_S11</td>\n",
       "    </tr>\n",
       "    <tr>\n",
       "      <th>0.177325</th>\n",
       "      <td>CC_S11</td>\n",
       "    </tr>\n",
       "    <tr>\n",
       "      <th>0.190160</th>\n",
       "      <td>BIO_S11</td>\n",
       "    </tr>\n",
       "    <tr>\n",
       "      <th>6.132418</th>\n",
       "      <td>REVENUE_10 or more LMMW</td>\n",
       "    </tr>\n",
       "    <tr>\n",
       "      <th>-2.630849</th>\n",
       "      <td>REVENUE_Between 1 and less than 2 LMMW</td>\n",
       "    </tr>\n",
       "    <tr>\n",
       "      <th>-2.272974</th>\n",
       "      <td>REVENUE_Between 2 and less than 3 LMMW</td>\n",
       "    </tr>\n",
       "    <tr>\n",
       "      <th>-1.482168</th>\n",
       "      <td>REVENUE_Between 3 and less than 5 LMMW</td>\n",
       "    </tr>\n",
       "    <tr>\n",
       "      <th>0.165820</th>\n",
       "      <td>REVENUE_Between 5 and less than 7 LMMW</td>\n",
       "    </tr>\n",
       "    <tr>\n",
       "      <th>2.504573</th>\n",
       "      <td>REVENUE_Between 7 and less than 10 LMMW</td>\n",
       "    </tr>\n",
       "    <tr>\n",
       "      <th>-2.416819</th>\n",
       "      <td>REVENUE_less than 1 LMMW</td>\n",
       "    </tr>\n",
       "    <tr>\n",
       "      <th>0.257624</th>\n",
       "      <td>JOB_0</td>\n",
       "    </tr>\n",
       "    <tr>\n",
       "      <th>-0.234743</th>\n",
       "      <td>JOB_Yes, 20 hours or more per week</td>\n",
       "    </tr>\n",
       "    <tr>\n",
       "      <th>-0.022881</th>\n",
       "      <td>JOB_Yes, less than 20 hours per week</td>\n",
       "    </tr>\n",
       "  </tbody>\n",
       "</table>\n",
       "</div>"
      ],
      "text/plain": [
       "                                                 0\n",
       " 1.816999                                  STRATUM\n",
       "-0.301531                                   SISBEN\n",
       " 0.518292                                      CAR\n",
       " 0.624561                                   MOBILE\n",
       " 2.829848                           PRIVATE_SCHOOL\n",
       " 0.187937                                  MAT_S11\n",
       " 0.281899                                   CR_S11\n",
       " 0.177325                                   CC_S11\n",
       " 0.190160                                  BIO_S11\n",
       " 6.132418                  REVENUE_10 or more LMMW\n",
       "-2.630849   REVENUE_Between 1 and less than 2 LMMW\n",
       "-2.272974   REVENUE_Between 2 and less than 3 LMMW\n",
       "-1.482168   REVENUE_Between 3 and less than 5 LMMW\n",
       " 0.165820   REVENUE_Between 5 and less than 7 LMMW\n",
       " 2.504573  REVENUE_Between 7 and less than 10 LMMW\n",
       "-2.416819                 REVENUE_less than 1 LMMW\n",
       " 0.257624                                    JOB_0\n",
       "-0.234743       JOB_Yes, 20 hours or more per week\n",
       "-0.022881     JOB_Yes, less than 20 hours per week"
      ]
     },
     "execution_count": 53,
     "metadata": {},
     "output_type": "execute_result"
    }
   ],
   "source": [
    "pd.DataFrame(X.columns, lm.coef_) #make a DataFrame from coefficients and variable labels"
   ]
  },
  {
   "cell_type": "markdown",
   "id": "a9818f0c",
   "metadata": {},
   "source": [
    "De formule gaat als volgt: \n",
    "ENG_S11 = 3.74 + 1.81*STRATUM -0.30*SISBEN + 0.51*CAR + 0.62*MOBILE + 2.82*PRIVATE_SCHOOL + 0.18*MAT_S11 + 0.28*CR_S11 + 0.17*CC_S11 + 0.19*BIO_S11"
   ]
  },
  {
   "cell_type": "markdown",
   "id": "4680db96",
   "metadata": {},
   "source": [
    "## Het model evalueren "
   ]
  },
  {
   "cell_type": "code",
   "execution_count": 44,
   "id": "c0732521",
   "metadata": {},
   "outputs": [
    {
     "data": {
      "text/plain": [
       "0.5695719386689424"
      ]
     },
     "execution_count": 44,
     "metadata": {},
     "output_type": "execute_result"
    }
   ],
   "source": [
    "y_test_p = lm.predict(X_test)\n",
    "r2_score(y_test, y_test_p)"
   ]
  },
  {
   "cell_type": "markdown",
   "id": "10a3ff52",
   "metadata": {},
   "source": [
    "$R^2$ is 0.57, Dit betekend dat het model 57% van de cijfers goed kan voorspellen"
   ]
  },
  {
   "cell_type": "code",
   "execution_count": 45,
   "id": "349c8891",
   "metadata": {},
   "outputs": [
    {
     "data": {
      "text/plain": [
       "9.10219877999276"
      ]
     },
     "execution_count": 45,
     "metadata": {},
     "output_type": "execute_result"
    }
   ],
   "source": [
    "math.sqrt(mean_squared_error(y_test, y_test_p))"
   ]
  },
  {
   "cell_type": "markdown",
   "id": "714610c2",
   "metadata": {},
   "source": [
    "De RMSE is 9.1. Gemiddeld zit het model er dus 9 punten naast van de 100. "
   ]
  },
  {
   "cell_type": "markdown",
   "id": "520caafb",
   "metadata": {},
   "source": [
    "Nu voegen we y_test, X_test en de voorspelde cijfers bij elkaar"
   ]
  },
  {
   "cell_type": "code",
   "execution_count": 46,
   "id": "b55ef09a",
   "metadata": {},
   "outputs": [],
   "source": [
    "df_y=pd.DataFrame(y_test)\n",
    "df_y['ENG_S11_P']= lm.predict(X_test)\n",
    "df_test=pd.concat([df_y,X_test[['MAT_S11']]],axis=1)"
   ]
  },
  {
   "cell_type": "markdown",
   "id": "bfde8063",
   "metadata": {},
   "source": [
    "We plotten de Engels cijfers af tegen de Wiskunde cijfers, omdat deze de hoogste correlatie hebben. Dit doen we om te kijken of lineair de beste keuze is"
   ]
  },
  {
   "cell_type": "code",
   "execution_count": 47,
   "id": "99db0698",
   "metadata": {},
   "outputs": [
    {
     "data": {
      "image/png": "[encoded data removed]",
      "text/plain": [
       "<Figure size 432x288 with 1 Axes>"
      ]
     },
     "metadata": {
      "needs_background": "light"
     },
     "output_type": "display_data"
    }
   ],
   "source": [
    "sns.scatterplot(x=\"MAT_S11\", y=\"ENG_S11\", data=df_test)\n",
    "sns.lineplot(x=\"MAT_S11\", y='ENG_S11_P', data=df_test,color='red')\n",
    "plt.xlabel('WISKUNDE')\n",
    "plt.ylabel('ENGELS')\n",
    "plt.show()"
   ]
  },
  {
   "cell_type": "markdown",
   "id": "3ed1337d",
   "metadata": {},
   "source": [
    "Lineair is zo te zien inderdaad de beste optie. De cijfers gaan lineair omhoog en er zijn parabolen of curves te zien"
   ]
  },
  {
   "cell_type": "markdown",
   "id": "25802806",
   "metadata": {},
   "source": [
    "## Poly regression"
   ]
  },
  {
   "cell_type": "code",
   "execution_count": 48,
   "id": "c7f2ec9f",
   "metadata": {},
   "outputs": [
    {
     "data": {
      "text/plain": [
       "LinearRegression()"
      ]
     },
     "execution_count": 48,
     "metadata": {},
     "output_type": "execute_result"
    }
   ],
   "source": [
    "# Fitting Polynomial Regression to the dataset\n",
    "from sklearn.preprocessing import PolynomialFeatures\n",
    " \n",
    "poly = PolynomialFeatures(degree = 3)\n",
    "X_poly = poly.fit_transform(X_train)\n",
    "poly.fit(X_poly, y_train)\n",
    "\n",
    "pl = LinearRegression()\n",
    "pl.fit(X_poly, y_train)"
   ]
  },
  {
   "cell_type": "markdown",
   "id": "040e7118",
   "metadata": {},
   "source": [
    "Een nieuw dataframe aanmaken met de voorspelde prijzen "
   ]
  },
  {
   "cell_type": "code",
   "execution_count": 49,
   "id": "282081a5",
   "metadata": {},
   "outputs": [
    {
     "data": {
      "text/html": [
       "<div>\n",
       "<style scoped>\n",
       "    .dataframe tbody tr th:only-of-type {\n",
       "        vertical-align: middle;\n",
       "    }\n",
       "\n",
       "    .dataframe tbody tr th {\n",
       "        vertical-align: top;\n",
       "    }\n",
       "\n",
       "    .dataframe thead th {\n",
       "        text-align: right;\n",
       "    }\n",
       "</style>\n",
       "<table border=\"1\" class=\"dataframe\">\n",
       "  <thead>\n",
       "    <tr style=\"text-align: right;\">\n",
       "      <th></th>\n",
       "      <th>ENG_S11</th>\n",
       "      <th>ENG_S11_P</th>\n",
       "      <th>MAT_S11</th>\n",
       "    </tr>\n",
       "  </thead>\n",
       "  <tbody>\n",
       "    <tr>\n",
       "      <th>9774</th>\n",
       "      <td>53</td>\n",
       "      <td>80.529361</td>\n",
       "      <td>77</td>\n",
       "    </tr>\n",
       "    <tr>\n",
       "      <th>1476</th>\n",
       "      <td>42</td>\n",
       "      <td>47.743289</td>\n",
       "      <td>51</td>\n",
       "    </tr>\n",
       "    <tr>\n",
       "      <th>1895</th>\n",
       "      <td>42</td>\n",
       "      <td>48.753919</td>\n",
       "      <td>53</td>\n",
       "    </tr>\n",
       "    <tr>\n",
       "      <th>8781</th>\n",
       "      <td>54</td>\n",
       "      <td>67.175554</td>\n",
       "      <td>76</td>\n",
       "    </tr>\n",
       "    <tr>\n",
       "      <th>7708</th>\n",
       "      <td>72</td>\n",
       "      <td>49.845683</td>\n",
       "      <td>74</td>\n",
       "    </tr>\n",
       "    <tr>\n",
       "      <th>2524</th>\n",
       "      <td>67</td>\n",
       "      <td>68.175445</td>\n",
       "      <td>62</td>\n",
       "    </tr>\n",
       "    <tr>\n",
       "      <th>8230</th>\n",
       "      <td>50</td>\n",
       "      <td>61.550745</td>\n",
       "      <td>53</td>\n",
       "    </tr>\n",
       "    <tr>\n",
       "      <th>5988</th>\n",
       "      <td>52</td>\n",
       "      <td>61.829322</td>\n",
       "      <td>58</td>\n",
       "    </tr>\n",
       "    <tr>\n",
       "      <th>12387</th>\n",
       "      <td>58</td>\n",
       "      <td>53.427557</td>\n",
       "      <td>55</td>\n",
       "    </tr>\n",
       "    <tr>\n",
       "      <th>12333</th>\n",
       "      <td>81</td>\n",
       "      <td>66.602280</td>\n",
       "      <td>74</td>\n",
       "    </tr>\n",
       "  </tbody>\n",
       "</table>\n",
       "</div>"
      ],
      "text/plain": [
       "       ENG_S11  ENG_S11_P  MAT_S11\n",
       "9774        53  80.529361       77\n",
       "1476        42  47.743289       51\n",
       "1895        42  48.753919       53\n",
       "8781        54  67.175554       76\n",
       "7708        72  49.845683       74\n",
       "2524        67  68.175445       62\n",
       "8230        50  61.550745       53\n",
       "5988        52  61.829322       58\n",
       "12387       58  53.427557       55\n",
       "12333       81  66.602280       74"
      ]
     },
     "execution_count": 49,
     "metadata": {},
     "output_type": "execute_result"
    }
   ],
   "source": [
    "df_y=pd.DataFrame(y_test)\n",
    "df_y['ENG_S11_P']= pl.predict(poly.fit_transform(X_test))\n",
    "df_test=pd.concat([df_y,X_test[['MAT_S11']]],axis=1)\n",
    "df_test.head(10)"
   ]
  },
  {
   "cell_type": "code",
   "execution_count": 50,
   "id": "1b62d09b",
   "metadata": {},
   "outputs": [
    {
     "data": {
      "image/png": "[encoded data removed]",
      "text/plain": [
       "<Figure size 432x288 with 1 Axes>"
      ]
     },
     "metadata": {
      "needs_background": "light"
     },
     "output_type": "display_data"
    }
   ],
   "source": [
    "sns.scatterplot(x=\"MAT_S11\", y=\"ENG_S11\", data=df_test)\n",
    "sns.lineplot(x=\"MAT_S11\", y=\"ENG_S11_P\", data=df_test,color='red')\n",
    "plt.xlabel('MAT_S11')\n",
    "plt.ylabel('ENG_S11')\n",
    "plt.show()"
   ]
  },
  {
   "cell_type": "code",
   "execution_count": 51,
   "id": "a939cc12",
   "metadata": {},
   "outputs": [
    {
     "data": {
      "text/plain": [
       "0.5043448197384894"
      ]
     },
     "execution_count": 51,
     "metadata": {},
     "output_type": "execute_result"
    }
   ],
   "source": [
    "y_test_p =  pl.predict(poly.fit_transform(X_test))\n",
    "r2_score(y_test, y_test_p)"
   ]
  },
  {
   "cell_type": "code",
   "execution_count": 54,
   "id": "5f3a119f",
   "metadata": {},
   "outputs": [
    {
     "data": {
      "text/plain": [
       "9.76755469825781"
      ]
     },
     "execution_count": 54,
     "metadata": {},
     "output_type": "execute_result"
    }
   ],
   "source": [
    "math.sqrt(mean_squared_error(y_test, y_test_p))"
   ]
  },
  {
   "cell_type": "code",
   "execution_count": null,
   "id": "1ae697c4",
   "metadata": {},
   "outputs": [],
   "source": []
  },
  {
   "cell_type": "markdown",
   "id": "775ef953",
   "metadata": {},
   "source": [
    "# Notities "
   ]
  },
  {
   "cell_type": "markdown",
   "id": "19483904",
   "metadata": {},
   "source": [
    "from sklearn.preprocessing import normalize\n",
    "\n",
    "X = df.loc[:, ~df.columns.isin(['ENGLISH PASS'])] \n",
    "y = df['ENGLISH PASS'] \n",
    "\n",
    "X_train, X_test, y_train, y_test = train_test_split(X, y, test_size=0.3, random_state=56)"
   ]
  },
  {
   "cell_type": "markdown",
   "id": "cbbe5e18",
   "metadata": {},
   "source": [
    "from sklearn.ensemble import RandomForestClassifier\n",
    "rf = RandomForestClassifier(random_state=1, n_estimators=100) #RF is a random algorithm, so to get the same results we need to use random_state\n",
    "rf = rf.fit(X_train, y_train)"
   ]
  },
  {
   "cell_type": "markdown",
   "id": "0b3218d8",
   "metadata": {},
   "source": [
    "rf.score(X_test, y_test) #calculate the fit on the *test* data"
   ]
  },
  {
   "cell_type": "markdown",
   "id": "5b0f5af5",
   "metadata": {},
   "source": [
    "df['ENGLISH PASS'] = np.where(df['ENG_S11']< 60, 0, 1)\n",
    "df['ENGLISH PASS'].value_counts()"
   ]
  },
  {
   "cell_type": "code",
   "execution_count": null,
   "id": "313647e9",
   "metadata": {},
   "outputs": [],
   "source": []
  },
  {
   "cell_type": "code",
   "execution_count": null,
   "id": "211fd7b9",
   "metadata": {},
   "outputs": [],
   "source": []
  }
 ],
 "metadata": {
  "kernelspec": {
   "display_name": "Python 3",
   "language": "python",
   "name": "python3"
  },
  "language_info": {
   "codemirror_mode": {
    "name": "ipython",
    "version": 3
   },
   "file_extension": ".py",
   "mimetype": "text/x-python",
   "name": "python",
   "nbconvert_exporter": "python",
   "pygments_lexer": "ipython3",
   "version": "3.8.8"
  }
 },
 "nbformat": 4,
 "nbformat_minor": 5
}
